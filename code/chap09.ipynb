{
 "cells": [
  {
   "cell_type": "markdown",
   "metadata": {},
   "source": [
    "# Agent Based Models\n",
    "\n",
    "Code examples from [Think Complexity, 2nd edition](http://greenteapress.com/wp/complexity2), Chapter 9\n",
    "\n",
    "Copyright 2016 Allen Downey, [MIT License](http://opensource.org/licenses/MIT)"
   ]
  },
  {
   "cell_type": "code",
   "execution_count": 1,
   "metadata": {
    "collapsed": true
   },
   "outputs": [],
   "source": [
    "from __future__ import print_function, division\n",
    "\n",
    "%matplotlib inline\n",
    "%precision 3\n",
    "\n",
    "import warnings\n",
    "warnings.filterwarnings('ignore')\n",
    "\n",
    "import numpy as np\n",
    "import matplotlib.pyplot as plt\n",
    "\n",
    "import thinkplot\n",
    "from thinkstats2 import Cdf\n",
    "from thinkstats2 import RandomSeed\n",
    "\n",
    "from matplotlib import rc\n",
    "rc('animation', html='html5')"
   ]
  },
  {
   "cell_type": "markdown",
   "metadata": {},
   "source": [
    "## Schelling's model"
   ]
  },
  {
   "cell_type": "code",
   "execution_count": 2,
   "metadata": {
    "collapsed": true
   },
   "outputs": [],
   "source": [
    "from Cell2D import Cell2D, Cell2DViewer"
   ]
  },
  {
   "cell_type": "markdown",
   "metadata": {},
   "source": [
    "`locs_where` is a wrapper on `np.nonzero` that returns results in an array (rather than two tuples)."
   ]
  },
  {
   "cell_type": "code",
   "execution_count": 3,
   "metadata": {
    "collapsed": true
   },
   "outputs": [],
   "source": [
    "def locs_where(condition):\n",
    "    \"\"\"Find cells where a logical array is True.\n",
    "    \n",
    "    condition: logical array\n",
    "    \n",
    "    returns: array with one set of coordinates per row\n",
    "    \"\"\"\n",
    "    return np.transpose(np.nonzero(condition))"
   ]
  },
  {
   "cell_type": "markdown",
   "metadata": {},
   "source": [
    "Here's my implementation of Schelling's model:"
   ]
  },
  {
   "cell_type": "code",
   "execution_count": 4,
   "metadata": {
    "collapsed": true
   },
   "outputs": [],
   "source": [
    "from scipy.signal import correlate2d\n",
    "\n",
    "class Schelling(Cell2D):\n",
    "    \"\"\"Represents a grid of Schelling agents.\"\"\"\n",
    "    \n",
    "    options = dict(mode='same', boundary='wrap')\n",
    "\n",
    "    kernel = np.array([[1, 1, 1],\n",
    "                       [1, 0, 1],\n",
    "                       [1, 1, 1]], dtype=np.int8)\n",
    "    \n",
    "    def __init__(self, n, m=None, p=0.5, q=0.9):\n",
    "        \"\"\"Initializes the attributes.\n",
    "\n",
    "        n: number of rows\n",
    "        m: number of columns\n",
    "        p: threshold on the fraction of similar neighbors\n",
    "        \"\"\"\n",
    "        self.q = q\n",
    "        self.p = p\n",
    "        m = n if m is None else m\n",
    "        # 0 is empty, 1 is red, 2 is blue\n",
    "        choices = [0, 1, 2]\n",
    "        probs = [0.1, 0.45, 0.45]\n",
    "        self.array = np.random.choice(choices, (n, m), p=probs).astype(np.int8)\n",
    "\n",
    "    def count_neighbors(self):\n",
    "        \"\"\"Surveys neighboring cells.\n",
    "        \n",
    "        returns: tuple of (occupied, frac_red, frac_same)\n",
    "        \n",
    "        occupied: logical array indicating occupied cells\n",
    "        frac_red: fraction of red neighbors around each cell\n",
    "        frac_same: for each cell, the fraction of similar neighbors\n",
    "        \"\"\"\n",
    "        a = self.array\n",
    "        \n",
    "        red = a==1\n",
    "        blue = a==2\n",
    "        occupied = a!=0\n",
    "\n",
    "        # count red neighbors and all neighbors\n",
    "        num_red = correlate2d(red, self.kernel, **self.options)\n",
    "        num_neighbors = correlate2d(occupied, self.kernel, **self.options)\n",
    "\n",
    "        # compute fraction of similar neighbors\n",
    "        frac_red = num_red / num_neighbors\n",
    "        frac_blue = 1 - frac_red\n",
    "        frac_same = np.where(red, frac_red, frac_blue)\n",
    "        \n",
    "        # no neighbors is considered the same as no similar neighbors \n",
    "        frac_same[num_neighbors == 0] = 0\n",
    "        frac_red[num_neighbors == 0] = 0\n",
    "        \n",
    "        return occupied, frac_red, frac_same\n",
    "\n",
    "    def segregation(self):\n",
    "        \"\"\"Computes the average fraction of similar neighbors.\n",
    "        \n",
    "        returns: fraction of similar neighbors, averaged over cells\n",
    "        \"\"\"\n",
    "        occupied, _, frac_same = self.count_neighbors()\n",
    "        return np.sum(frac_same) / np.sum(occupied)\n",
    "    \n",
    "    def step(self):\n",
    "        \"\"\"Executes one time step.\n",
    "                \n",
    "        returns: fraction of similar neighbors, averaged over cells\n",
    "        \"\"\"\n",
    "        a = self.array\n",
    "        \n",
    "        # find the unhappy cells\n",
    "        occupied, _, frac_same = self.count_neighbors()\n",
    "        unhappy_locs = locs_where(occupied & (frac_same < self.p) & (frac_same > self.q))\n",
    "\n",
    "        # find the empty cells\n",
    "        empty = a==0\n",
    "        num_empty = np.sum(empty)\n",
    "        empty_locs = locs_where(empty)\n",
    "\n",
    "        # shuffle the unhappy cells\n",
    "        if len(unhappy_locs):\n",
    "            np.random.shuffle(unhappy_locs)\n",
    "            \n",
    "        # for each unhappy cell, choose a random destination\n",
    "        for source in unhappy_locs:\n",
    "            i = np.random.randint(len(empty_locs))\n",
    "            dest = tuple(empty_locs[i])\n",
    "\n",
    "            # move\n",
    "            a[dest] = a[tuple(source)]\n",
    "            a[tuple(source)] = 0\n",
    "            empty_locs[i] = source\n",
    "        \n",
    "        num_empty2 = np.sum(a==0)\n",
    "        assert num_empty == num_empty2\n",
    "        \n",
    "        # return the average fraction of similar neighbors\n",
    "        return np.sum(frac_same) / np.sum(occupied)"
   ]
  },
  {
   "cell_type": "markdown",
   "metadata": {},
   "source": [
    "`make_cmap` makes a custom color map."
   ]
  },
  {
   "cell_type": "code",
   "execution_count": 5,
   "metadata": {
    "collapsed": true
   },
   "outputs": [],
   "source": [
    "from matplotlib.colors import LinearSegmentedColormap\n",
    "\n",
    "def make_cmap(color_dict, vmax=None, name='mycmap'):\n",
    "    \"\"\"Makes a custom color map.\n",
    "    \n",
    "    color_dict: map from numbers to colors\n",
    "    vmax: high end of the range, \n",
    "    name: string name for map\n",
    "    \n",
    "    If vmax is None, uses the max value from color_dict\n",
    "    \n",
    "    returns: pyplot color map\n",
    "    \"\"\"\n",
    "    if vmax is None:\n",
    "        vmax = max(color_dict.keys())\n",
    "    \n",
    "    colors = [(value/vmax, color) for value, color in color_dict.items()]\n",
    "    \n",
    "    cmap = LinearSegmentedColormap.from_list(name, colors)\n",
    "    \n",
    "    return cmap"
   ]
  },
  {
   "cell_type": "markdown",
   "metadata": {},
   "source": [
    "A `SchellingViewer` is a basic `Cell2DViewer`"
   ]
  },
  {
   "cell_type": "code",
   "execution_count": 6,
   "metadata": {
    "collapsed": true
   },
   "outputs": [],
   "source": [
    "class SchellingViewer(Cell2DViewer):\n",
    "    # colors from http://colorbrewer2.org/#type=qualitative&scheme=Accent&n=5\n",
    "    colors = ['#7fc97f','#beaed4','#fdc086','#ffff99','#386cb0']\n",
    "    cmap = make_cmap({0:'white', 1:colors[2], 2:colors[4]})\n",
    "    options = dict(interpolation='none', alpha=0.8)"
   ]
  },
  {
   "cell_type": "markdown",
   "metadata": {},
   "source": [
    "Here's a small example."
   ]
  },
  {
   "cell_type": "code",
   "execution_count": 7,
   "metadata": {},
   "outputs": [
    {
     "data": {
      "text/plain": [
       "0.527"
      ]
     },
     "execution_count": 7,
     "metadata": {},
     "output_type": "execute_result"
    },
    {
     "data": {
      "image/png": "[encoded data removed]",
      "text/plain": [
       "<matplotlib.figure.Figure at 0x11c9ec278>"
      ]
     },
     "metadata": {},
     "output_type": "display_data"
    }
   ],
   "source": [
    "grid = Schelling(n=10)\n",
    "viewer = SchellingViewer(grid)\n",
    "viewer.draw()\n",
    "grid.segregation()"
   ]
  },
  {
   "cell_type": "markdown",
   "metadata": {},
   "source": [
    "And here's an animation for a bigger example:"
   ]
  },
  {
   "cell_type": "code",
   "execution_count": 8,
   "metadata": {},
   "outputs": [
    {
     "data": {
      "image/png": "[encoded data removed]",
      "text/plain": [
       "<matplotlib.figure.Figure at 0x11c9d7b38>"
      ]
     },
     "metadata": {},
     "output_type": "display_data"
    }
   ],
   "source": [
    "grid = Schelling(n=100)\n",
    "viewer = SchellingViewer(grid)\n",
    "anim = viewer.animate(frames=30)"
   ]
  },
  {
   "cell_type": "markdown",
   "metadata": {},
   "source": [
    "The degree of segregation increases quickly."
   ]
  },
  {
   "cell_type": "code",
   "execution_count": 9,
   "metadata": {},
   "outputs": [
    {
     "data": {
      "text/html": [
       "<video width=\"432\" height=\"288\" controls autoplay loop>\n",
       "  <source type=\"video/mp4\" src=\"data:video/mp4;base64,AAAAHGZ0eXBNNFYgAAACAGlzb21pc28yYXZjMQAAAAhmcmVlAACdzG1kYXQAAAKgBgX//5zcRem9\n",
       "5tlIt5Ys2CDZI+7veDI2NCAtIGNvcmUgMTM4IC0gSC4yNjQvTVBFRy00IEFWQyBjb2RlYyAtIENv\n",
       "cHlsZWZ0IDIwMDMtMjAxMyAtIGh0dHA6Ly93d3cudmlkZW9sYW4ub3JnL3gyNjQuaHRtbCAtIG9w\n",
       "dGlvbnM6IGNhYmFjPTEgcmVmPTMgZGVibG9jaz0xOjA6MCBhbmFseXNlPTB4MzoweDExMyBtZT1o\n",
       "ZXggc3VibWU9NyBwc3k9MSBwc3lfcmQ9MS4wMDowLjAwIG1peGVkX3JlZj0xIG1lX3JhbmdlPTE2\n",
       "IGNocm9tYV9tZT0xIHRyZWxsaXM9MSA4eDhkY3Q9MSBjcW09MCBkZWFkem9uZT0yMSwxMSBmYXN0\n",
       "X3Bza2lwPTEgY2hyb21hX3FwX29mZnNldD0tMiB0aHJlYWRzPTEyIGxvb2thaGVhZF90aHJlYWRz\n",
       "PTIgc2xpY2VkX3RocmVhZHM9MCBucj0wIGRlY2ltYXRlPTEgaW50ZXJsYWNlZD0wIGJsdXJheV9j\n",
       "b21wYXQ9MCBjb25zdHJhaW5lZF9pbnRyYT0wIGJmcmFtZXM9MyBiX3B5cmFtaWQ9MiBiX2FkYXB0\n",
       "PTEgYl9iaWFzPTAgZGlyZWN0PTEgd2VpZ2h0Yj0xIG9wZW5fZ29wPTAgd2VpZ2h0cD0yIGtleWlu\n",
       "dD0yNTAga2V5aW50X21pbj01IHNjZW5lY3V0PTQwIGludHJhX3JlZnJlc2g9MCByY19sb29rYWhl\n",
       "YWQ9NDAgcmM9Y3JmIG1idHJlZT0xIGNyZj0yMy4wIHFjb21wPTAuNjAgcXBtaW49MCBxcG1heD02\n",
       "OSBxcHN0ZXA9NCBpcF9yYXRpbz0xLjQwIGFxPTE6MS4wMACAAACVnWWIhAAU//73x0/Apuj5Zsud\n",
       "RT0hMIrY+kgovVjs0DJ1AAADAABEwMcRbV3LjwHmAABhDENhgw7h5gCdbqzyEJkaBgDUgj1xwWXB\n",
       "F8mXkwbwmO4y6K/tPLJ1ZAZdfItDDn7mcEbnnuJjob5HGOGUSA8Qm0b6GwtnNFQzLUiDtAtZYvH9\n",
       "ZFoGJm/dLWrIvf2ClPkUg5dd+yY3X1kIagTu4JPTPt0dvJpWk4jzldIEKKilT5INSFNV5oODttRa\n",
       "bKYz3ETIrjHTQq62o4DfODBBLnS9Pbxtq+FhqRjm/PKiL7rB4yTfc//RPBB7GZ0FY5z8FlYPukrH\n",
       "pgTBxUtB7OSXTPOs623YpxW06jObFUJd7HgFFlqPsS0UHuJg4oOWWQZseRrWgm3WZE4D2k7c/Y4C\n",
       "fmc6lQ+gbyWZwWVx8goPwpaKKSV5qZWuzbNZ1LLkyrAkQthAWTxnFJApHmj3mFObb3maBjfBzI56\n",
       "u6yHNlpN1rYDapjuiOkBhJ9tvu9U4fQ19xSTz9KNexNo0kYO5DnlLTCqNYFNfMttKgtGuPWZce0Y\n",
       "96903apjpjulpXpJEtVc1oyeP3oUaME93WikC2bBzzcD7rX2BDw+bWXSxiJHRrZEazLI6d4MSUdl\n",
       "hXwr1rvS1O1prHdh45bgxkrHBsV43foexsGgx48ZQbqwFmvhJ7mcJNA7GkVAukACtJUvZ6R0A4R0\n",
       "N/2KRM0ygzWjrAIfntf4eA8qtlVsVLUfCOoL3D4iMkHseV6QgXVSF2RDeSBUL7LRWBCckH2fjDvL\n",
       "gfP/7ClVwZf/EJk07EeTK/TFHtq3MJZAPmYwPpLarHy/PLMO/IfxUsrpfnInKG3blEMi8TqGrclw\n",
       "+dCyVjrBUItIHkektanrKk3CqBoRbzbL9KrTECTkkYpERj1Xnard9roc5vQvr4wdUozqPNv1t2zM\n",
       "o8ggQCus0q+N/UF2dLK8D00pKfw7FZ/FKCTvCUXY87l1mvg4fCK29wOSVK2Ps4i0nPvk2bUIkTqj\n",
       "M0RsGfLNShcMj9LOTMsNWToRNsFBm/Fs84US8e9g0e7x2MKTksvOwLxUENtGcjDY1S2vN/40oVuG\n",
       "WQtEZnL1Tase5okOiFecaPnwiCn8Sc8KtGhMiYDdgx8zf+Q75zDt9f7v8gsvr3WPDc//6kINh9aX\n",
       "SYZdtHexX/Na5DZSrUtStruDrZYTjuUwS1XckdRUxSY+fxQ5DGKaCRixowwX7QgQQwtXK2DC/FwD\n",
       "TSunhN/BUUJAJfUj4AK3bFq8o5AHvyoHGaAWtEmFOGKvfEx4MixjdtsI+UXSnQw395pHF75TMKDY\n",
       "72hlD5PvnKcO06TVc6bsKtuCUN5EMvdYrH2i1ySyW9fRECsohvP5vU5/yednkbHTJEIF3Qch+jM+\n",
       "RsGZaOz4FTpL58RVJMnqBvWtDnAPI76noTRr5Sas3cnzqTvxnvw646qO96K8jrx7+Y2VetzN+sPx\n",
       "GygSq2QQhNjuoiLbzUg0FY1xeP3IxImSozBgkqwa9py+A8/XUfLIWC1RvH1ih9X7ECbkY6pNRrPW\n",
       "KOKyXO9u7mhFOzcJOPyElsc9jGUbDf9FuKXXccfRyzggU7UiTo8+QQ7XcsPed/NxIE6+5p85q8Wn\n",
       "Y3pVsbSgTeQ5gCw+9HpyFnm+NdAcjXcaS9hkQtAu5bgdMJAVuylZHel1YpLVCSqtN7SJ0C6EIXJm\n",
       "lEL4/uBibC2Xv7QYa1luL0R98TJfd3z/yd9bgozjKUxoun/KtmjgUA5+i4hLoo2l5F72UKXoa1Q1\n",
       "pHtU2ufbHB0dJ+7S8947k/sQh91+QcfFyePlDa5TedI20YqCxXuiEU0aWOYySfu0p0lYHSkb6BRO\n",
       "8jzcpyUqp5IsHuN9llaKCT5RL/bUeqT25t+NzHoHRfW22RZQ3JQsZlHBYwRhBmvhi/mBFWj7B+lC\n",
       "iU25PcEo4NfNVbEEc/+cr+gy+KvzJu1+PV9chP7JYNWTrMpKDH62ITst51xEKbI2A58lhIyvvXu3\n",
       "zQXDwGFiJGtTJ5pCPXre+3SJMinKUWAnDdYLl/yBVkT48Hn8jMqRxnK0ki4e22Y5z+th3nNTNd6v\n",
       "ah2ehRsFhmDgMDBpj9DrxuFnaoEVnRnj//D97itLIg55pqdGN8jEf6KF1k9MWXW9hA2DtQdjVw0n\n",
       "XuaMNpXIU1Z46fJ3FEXuNuVbONTb5AgqrSTXsldWVFeBrsEn+1y7RwMXxxQSs1A9i+DYvXJEtvJC\n",
       "DSMU3wB9cXZtimojHZlyH7HB/5ZTTuvsTlswenLjN9i2ac73P4WE7h7Xrf6JQO51mz3Diyjq5mYk\n",
       "lKrkukzdQnU1BnhF6x1esHMebFIwcVeOjxZtG7evKrKPcqhH62btBNl9WR3EqkSPzHQLQKR5A8LB\n",
       "J7CTt/eglJUghtJFLsClq91NHpjbsCdZEBQdrUx8uSlvR/55CRRFRaTfVi9W9/s6XF1LdNjzvmdV\n",
       "/2i/+35hX5loQXOLO+SJrSFmSx2w/VVlyj68dWkkjBfClq3l7WG3gOH5bL6ZiVYRWaxgqYBRyBEm\n",
       "nxgbIn+1ftjhgSkqUiPSjaSVNKloZ3ANcUkpjr7avVlFntMxSJ2DYMdNf8Hlyk/mQhQUlkrjM7ya\n",
       "aTLYO1Jzbuqz8GyEwBFciF/mygReViFcP/+lkPZtrB3iCUiwMxIPjkwDgaM3uToJPdUm4r3AINGa\n",
       "bgLONdpqHrc2jLtMcLYgLVgeYvz3x54vDuMxLs1MTGcjKKJNfrnTnfEjIO1/h0iFAmTSZ+Zf16u/\n",
       "9kVYGyOcwHOTikuC0vdJ0/cDiWIbbfhi/WNy6eSCvhs+Vou1wnsYwQGxbzFIUkoEPV3hQi3tvvyn\n",
       "NMxBcZvXOrdS17SmuBioO1d1HlqsbpBFh4y8mmfzGbUk/p5NjeZiFSdtqYNl46W/reA75Uv5EmQS\n",
       "tc7k13lFJ8jgT9zOyjGWMMcaYrrXjpwKtmfxzv31/o1QdZK4eOVKN28SgKNhqxVAe6Fka3be+hZh\n",
       "q17W5Iw2BBp0L5Al5izj1wDI11fuYYE4L+gIil6pZkF0eUs3e7Xz4a4I0CH9O/vVxT2NV9Z6LHJs\n",
       "g2e69IQcjvetHlNOzGB7DLywqn9LpwFm2XH09GweEc0OP6UBHJpRa+vFtq3RhmUyEYAlAUuhy3lq\n",
       "p8Fo/RVhXShrXP7lAXqlv1TzQjagzlZQoRdkI/HtWyxRrnPo6FW4w5K83gBXw2MAW6icGt0sVTld\n",
       "Owssf1rRx6dMaCt9TPKHcFKgPGPoZ3Em4bs8tlPcudzXowiCHkUmTmnmYJwkPKkEPrlghpZ9Jbnz\n",
       "5FSzaMunfPT1dsRJFnEyRgjCwo1KsGZs9ABrmY6ZaZf6IH1FTG6sZ5hju8+NrDZAYcmlrGJQqTHF\n",
       "kXDlGkmjeVry3pepifUovhT9YC31oQtbowJBr/Zw75D2WssiRR8cQsr2WiHVVSrP/1TswixAOB/u\n",
       "8g8hh59dgb8/b8ybUpN7/rJ0FoSHzPtZRC6674QepYaL3Ig8kCL1Guk85ZrokkVaExR4OXSc2T+Q\n",
       "+rAHIYB6pgdG5s/0j3TY+bbwrXYjkxpWD0PfKmS7AqLvesFZtkscIvmnvKtwLS0cm1XWLldG2bIB\n",
       "/FQDEwd2pcuIa2y6kyjsPJnybPRSe9KPp0zDVkejSlQMFrf51dFXqGsaIVvSy0SBqXVSeffpoLoT\n",
       "kImOV1n9NqZ824QDhBpfitTYDUmGFfD8tfW3gt75v88f4IZRxbfXvhFKJ9moW5/+wNQ521N7qZzM\n",
       "TgZUWgR3v9uejLnC05whSid2JZdr9jegePLWu1JGjI7HSjyGNe56NJMPvgSWPkFYV7vyWFuKCr/Z\n",
       "x6QJ6GNhBOwdfpCeBj5Adxdd41LQmSkBY24e4tVPC4d5GRD5VblsB1/ABhCE+tIG1pD2RP58Ub/S\n",
       "fTJ9gk5FivoA5IIRG2B8gWTY+NcJ0w/F/TOCkx1SWLgLzGyEU3V8DOdWqe6sbXqa5w2uUt+k/Kc5\n",
       "JWtGDhQXVrSRBxtIqvLJWv6/XA/B0pQz50wQ8J/FOhkJqThRdmtaSKtXyGbtkLOzrd9chgh/BrZi\n",
       "5ElaGDtZ5YrGZNSSxNkjBA8Mu0Cx+pjKzHIVSW0urQ0hPjgi2c6+u4HN1aYoIB8cinK1672Dusn7\n",
       "jRjqrWpLv3zcJr0eqS3CfdN+9jfxzmB9AO48qVJUZN1oXF0SH4dpbsuQ6LKREXHjI+35ifn1kdjF\n",
       "W6aCDu1fT7FgO/5zvvU7kONU8TnYBMjEtqiPFDBEfqE8s3nY6jO0Jmtzkp8AKaU+zId+woZ+Hh0B\n",
       "rcjJ7uzB1EuTFGKWd8vE4kPhwtk5tQ+ovRg95/jNAU2OPi1rrz4+EX6HiIqvm8F0WzgNsN74PtAo\n",
       "sEb2j8MUUNdqHKkP/QkXUW3biCXVAIkSdfEDEBI5ooTWtxWpEuiIYNbycJ0A3eLTBg9Z4d+o9xz7\n",
       "Yh2+GljmOApofNZ5zPVIiwylv6wJDap4J7w160+0ueUr4JdTCci0QnceEmPIUX2r21YoylGP+p8n\n",
       "hqBE96nKcFP0xbXKwiXTr0LgZQnO8CyEFPysjPhm8U19SebNLNNvdIAL3vqD++bG3KKfgM9MeUob\n",
       "50fksZfjKzoPMeBIGzLwkO4Ty/FXg0WdUN4H+QYCY+HyQLBnzL0GN+Cql5Uu5Q7GQeJK/otxVRF5\n",
       "qTsMQCPkXRgJG6LEXZVymLrSwrHEa9vsMmhCcXlJd/xPZOgEIAxaLuFB/fjj6cywmG63qbc8QgoC\n",
       "XnlJN5adjK9KUzV32Cw99IonVGNwsQktW/JOfwaxFvT4QJCzQDtYk2nh8qWfExoevMFIv6ZDCbM4\n",
       "zbnBJDNm3VLj788LGU7wMU5Xet3i/4He44lwSIV0ZzQNNMjCh+S896ArX/GrkW7S18xsBI+iBb21\n",
       "6LcSL6iDv4T/lMMiBLKZe2hC4uP6VBWZ56qcP0HmILxep4BhlcvPEmTIcbLI9E8318uc1cpjNOZP\n",
       "beEK3OAe/5SkiyF5HKnVQtof6XDtQ7NZsgvJWVJDviTZ3SlSrYwWgbaYTdzVJdo1Rwd1lF/Oa4PQ\n",
       "LrdE8kHuAbhtraV/zNBNEddVPC6SuCVUzvoy/GLyHsN6S5zB0oJsOfLuRgurk2yRJPHnFSjtbKPX\n",
       "oWEaSOzWJ9XC1xSDkRQ1K2xYyIKYtR8cRWOYwKxnXVGurU3gG8b6WJK+pMHghsWQdk72Kld842Ga\n",
       "igDz5O6xbqM04YBFBSdXen3k0xjWn6kJIGLZAESVf9TO5Dpdv7klaQGzC0SsIs1JVjkSZ/JmFKpH\n",
       "UzpcYw19VIzuFnupsr5z97kxWMPN3yyEDH3oWeG6Vbqe1FHXq0+T4YUfINInCkNrJtuWlLTAy4tE\n",
       "o1PjMBCXIFYwwDq0RqFCUeLjZd5uYDC4t+xV84+L9f3R8HSNeMZC4U8684S9mny0wpvyufaELi8D\n",
       "G8FjMh2IQaCnh9viqq2hA16hw5+bmLfrdQdx/T/gfXs3riU0aaOHWUbgJ2leCWxhYalNB1hwLa+0\n",
       "l39PNadQor1qChLTYR3ZtWltIbPHB1YHuPAf9vNzkLNyk+WA5jMM6HvBH8UGKEdliim2RR78iUS/\n",
       "i9h/98MtS/DBsUetXcrNKwgPaK0lO+WLpQk5d71dRZy1nQ3OMxMW0LiyG5opxKaps/tF9nItslEW\n",
       "EKZRM0K/PffkroAWkKzhFTkONDj3tKOBMqs7OdOe/uCd/lSC1Z41p/Ew6OzJyG+mgZzZPlCG/CWC\n",
       "KMYwiaZea+yy7QwL+fQtkMbtF2Ocxvz5YfqvcbbCglWqmb8LSzfHS1FokiD6kb4vlTzW3Xo3uAVs\n",
       "EpoHpLhNtNbckUJZ3dTW8XT7WlB43oLzknNo4FamhzX5N7/hOUFBinoJng7p/bqljFImEpP6mfqq\n",
       "PJLiUStLStGbn4qMe14qD1FHf4K/By65P0QlOg2nwSHLzl8a38ro/K25m1T75Dx8APwXw/QCh/3P\n",
       "NNkw3ezsFdBk9H9q7iwtbUhL05uEs7pEs2ZG3C/r1rhFQ/D1EDDEqKS690Fhji5ED+sDoCxAjPp3\n",
       "/YjEXsoDunSUAnP9eSU6KWomaSK05ltxXoNl1vL0RAgCtgmrQj/hZA73877sJp8TDMSpVFtLi0dS\n",
       "XqEuAALkE4QRM4ZU5IGsFw3yExwpy7RrTr81VO59gjHOVu+Ps9ERjby2l4/7wg/ImoGfJJ3IaxHk\n",
       "Vf5vymPhRcZ5OZrSeJK6N83LrLcDdjU7L7hoClq5UtHSRWJfWcoq0EvrhqDyZJdw7s7A1KTMC6NC\n",
       "hDeHnimrqFie6Vhe7Rzn7ywR8R0Ex6MC585w+niUUHujp1Ir2mUi9v5K08xZDOPEHEVU7HPxUktq\n",
       "ECKvnt2dvNoJXQY3nqiN7P3TeD3EKid8Twi1ik7y5DSFvVK8+gJmqq5tJSjIJGhpPxzhlEuazDYH\n",
       "a/pXx44CeV9hHOb2UK+yKrwAQVzqvpnqqvrSEtYP1PZDPkvSVv8pmY8xE2HaMCYf2x0zxfJF9gzE\n",
       "rHkN0xBrqorgTKMbb94gPf5oXocwYb8dh7KOh1f0vHLY568cj7mUSCsa9HedVNWIlYO9W+j9azXI\n",
       "PKH9j7qa0M9dN4RVatuPHcR/csBogDzjH1TYYtiOW2E/thpZ+LwcgW2nCCuqF9FalzX5DY5Dnagv\n",
       "ZDn8yLJRjkSIH/MrDNZTzAZ0ZhPLZh/oaHyQVYK1Ug416Vrz9v8xaRKuqu32xCpCbysYXMw3FfJZ\n",
       "JTt2d0y1kt902R+LT5B7jPKeJRGp17VvAqlVE2k3DdgV9/KFymmM5xEa327bweQYdpSn1VKANJm8\n",
       "zjUQn64UhgUeXk1spkdETym6OT784w+SJuM8I7u+JQoZidBURfxdGTrGIjjYwzV2++REtmAkEoIG\n",
       "KrCkjNq0fStvHArE8ivT1t5isf73tfBp9T1gNPhbQpUoZ9viVhU4sHErrm2cZAn1zA6IT1UWktGQ\n",
       "yFtmjz/H3aiI4GacYekJaL1ekThFUc/vOEK73N0H9YrJ3LzcGG3X1pt0/fSDe/z61zQyhnyoxYpQ\n",
       "DXOCULNDrD1baSq/uOT5PpNezkhCJdpg1CMaSDpzfVc5A6TwfQEXlIiasraYrgEBeV/Lvdl5m4QN\n",
       "Rfc+eQYKyRvYlsiz5Bv80EK7UH1VvQy+zII7pvDFoAr08ByNxpuifW2f7iFvnhO3Zx4OrepQHieW\n",
       "/nvDpmjQx7QBSaVEeWCqp1s0Sp0LO/ACQa7IAdd5YVWcI9Z2Bp736gEWOtht9JlphmxAjgHGB/WO\n",
       "PdY06HAlfLdELYXbPqqtYCKFN129cC4pFXrp+EKJsZSvOUlCy7/iBTtmQOqWc3v0gwqB2WEz4AOv\n",
       "DHv12pkmVmVD5WwhVL7GT0z9VaM1RtuNd+lmCb8zOuOanTuB1xnk3yfWRBz/4wx22QXXDVE/tAlR\n",
       "NvZiUOOoarmccCS7f3q3GIljwV8Eo5m1d7rsxvgqjrJl9jPpKzQUyBF5FBvSo8VYj6loTGBtbSnF\n",
       "zri4AVyCc9tCPZ1Hz6TaMCkO9vscVZ9gnty0eXac4U/IUrTsvmO6UCNTbmAeSAKP67SpWh0sIIK0\n",
       "Xji+mYtfBVgezqQ7fNPK3CDfA6RcggXuLG3XnpsNUXpvoTRLRyaCH5uxPoiMALBmsZ2v2Pd7NpfD\n",
       "wf69nOMU7RoGvfMr6xIS/KpWZvWBPABnDbX93y24QVJ/UsOIjM9UC7YCtibipOxKockhI3nZyM3B\n",
       "imjNhmLNgfmA7bDuM9ltjWLJMIf6oVEheFzot/u7qBbpYkQCidW11fQGXAe2XFPw1oFl2M18pFDV\n",
       "oiSC30BOE5kGXGhTl04//UO8TKkUt8SkrhFwg0mzDKQVevUleJG4S8JVWcvAEnftkVJT8sJqTutD\n",
       "UdtEKYiWOnxawbXP/52CdMVZzSK0ziXlWMisDqMUq5h9Gs3Wq7aeKDJjftG5kH6hy+m0XuYNv8oz\n",
       "1cz8qeK2a4q1v+S1CaVCNu5Skz0u0/gLBBSU23dDhut/+VLZD8GRL8fIRx9IKYrJpJ5h50IPsywJ\n",
       "ywG2K2wgNQM3T5LSqlGy99/cqz/6gvs0hfRyPzPfJz0G+xW9uxXwAHByJGm8N+LMgmzN5C/u2vOW\n",
       "vcEzmgCEur9T92IQ0rHRg2GSADuDODzkEh/ZPUKxHhm2i93H7LrmrEmzUgeK0m3I952IYWmjzu6C\n",
       "XE8pJzXUPfcpXTbfiiQqG5cO2sg3QN+0vs2PQGNMz7WNR5PsrfkCABDz82TNnWv8oK838iZG4X1q\n",
       "+x83ZH6c8tBIdSIqFXkIQvVGPePllgxPpNwpj4F3kKzZ4baMW3mb6yxlURhnK/iKIE1zslqoOOC3\n",
       "HPkjdPJiM6TP1YDieDzJXNiatk4L8TWOflJxWx2yzdha/PKtuXmoPD6Mm8XQT961VNo47skQW8KU\n",
       "qbYgwZr3BgvF4Rd8b2TYJRmpLKN0bAAfja/OPhKIIw8WpJi+GDa4MfWY23fjIl3rLr9agbohrCbT\n",
       "jKqznPkJ7C7OMdq7C3F72TI0Q8dWzOoBlyW50wYwQFmKSeykQPzlqKktdfz+KPKt9kYcM+hCkwhW\n",
       "A18jEo0A37aBD1F6FkkLGRVjHvsSrXhQEgXnPqKQ9lUXo10tkRbOr6uSwOztDgcT7HSwjfVuwAvY\n",
       "Bh12XFQhKcPC8uLzqQsr7ImdwY0jMmo0qlS/WONQA+SNbm4DnZkfY+2mTuTgOg4fNGtjf52X8W6W\n",
       "tsjbUjW8N8Lj263g/r7bHvnR6rihlNJMMx+ioBAUqsN2R/LX3GcSe+N6b53wcjihBXx7fxOz6NqA\n",
       "gcmWn1WNrBiTHA3GwU4JsYdVA+5nLRnkALqHyAqNPgT84xzUp3FZLc825Ja6YOr8bbiYpxJCjOXA\n",
       "U7g2zUc+Y+8LIZF1yxsdODenwPflnFTskZdk3jWwxVTvRkjx53MGTYraNarj/fytMDWn2wwe8Isy\n",
       "HCXPZwPueYdmuWWLkZ0PinhIrrIQ9Th7gSwdll23leQHa9A8/vVyfzoQxYtH7vcBwXYToY3D1VZE\n",
       "k7t4xhhR5DuB3pnp1f4cqgZhW+I4qc450vWXkzCEUKCMF8bdmL2FvldzVyXrbvVtDMRpTUSMVLzZ\n",
       "6mSJd4oy4g0srhAn9L5AkHWp2FmYj6sYzliUjfE9vDyJ7ucgl0b4hcdeMG01JFygusxz4LQXpiZL\n",
       "Js8PABSnv0BkDaSp5p844zluc10+5hn4RFBHDJUFh37xDxabPTwlRV+g5fm82s/enm8dlUNksOOT\n",
       "gWewEv3diZ372VqAxu8eAKgsesaH6adHg5NSe+JdPpB0shO/xWnfOvvWXuObPlKLvbrcwJdUa1tX\n",
       "SMcczQmD1HJmaOG1DATmFllvvRHc/SbPDrSUKXBsI8GEOG51CJgLftHiomIqFzwhhlaiCwn8W3yA\n",
       "nmwqNalkyDJOdczR3D8TYiSOAQ8jEz43SpCAyGQYKUDyMFyboMLY3ZMt94GM0lfYoX4frz7i3f5W\n",
       "TaiLLWbDv77h93PmuscuPN1t7R/fS5Ov7jDq07pXI6pU+bh3WblKvOLhLpdbcPynKjQlrZZUAYEg\n",
       "BBt+UCajA476sjmVx6AFMuklEUpmfQNTTmMGGuumKhPHGPx7OPxxXmo83MYhIhvfPdRHPLuYSHRi\n",
       "fUQrxou+DW6rwYPR2L/z8N83KhFdMZvk97eiy4Oj4oa5BfHJnMl8KLPAEo0H4kt7itjHThZGElTZ\n",
       "A4AtlFnxHwZdTcaWQRndEG2txD4MRnZoi6qfbhaiBah45nIYJv25t1kVr3rQUYhOU72nzER17YvN\n",
       "O9pu+EVKqOyzZS9S8bJhzoLHGXLqR6qCAqJHuy0Fy+3OeB4YGglU44hypj+EP2XobDAKZhh21ToL\n",
       "mw4YYhFWK2YHLmLWE4GZeRo6gDyqIWZaCZQt4FOBmc/mRze8bhcIMJmu+iRdxU07Qylkb8pg0HrD\n",
       "4+83G0oyqfHKSj2qjusleLvhZu9OyzFMZaJIdVD2UyIyRicumFWPHXhYx2S4D+DUx90fh6MxQXZZ\n",
       "02ePs4I/KFC1LEd3JO/u1MCw3bC+6NnBo+K3ob4hhVLk9kUDo89QwJXgPlfiPes6SE+25Y6aw3fT\n",
       "Pg84MYNxWY8TsTYtsBe9Gb8IobvvTehbjL9QkWmG/ANd9GI2qpabDOlRhzbZrMdUmEcFvigMNiLB\n",
       "8dfU3GStBLVU0cMNsTd4cQgJH6XRixPSo0k1QkbnVSUBTaWTZtKqgq45E1Dc9IWDYzJqhrLwJAUg\n",
       "bozTvT77MRGtgY0uDXY6AY4xAH2a8O7Vi5mIu7n3wgYCkkpmouM9B2EmmbVOvwgIskESJYI6VmxY\n",
       "CCzukvIvqFsT32VscnYGr753KAIvwy+GQzWYe2eewVpIVMOVztAsuAU8DBdYKqRIdnRkijGk8nH6\n",
       "dGfNNX8cdegO8qyxkX5HMgy5QRZOAXJ7YPPMs1nLydTROOoO+/iqSu9W9M+aMbpbWRyhLcx6igY8\n",
       "YSPhWbzcHOMsFmaH04Wss2pGnvoBlnA0NWu5+o9oypztMZObvbt7dnNbtIKODYlsAJMTCVFtVgsi\n",
       "qVo9G+ZQ6sSZYKzu2CFm9Eptun8kDl5ezDD/vnqdmdpP7tpYEwhbsQNhSJjuBE+SQT96rnO9OR7A\n",
       "vaDdPtfmaOUvwGvFqloGlJ7T2q7Da57PVqCzH6IAM5O+F8pkdI6Q9I0bDULes1LNtBTPbe3gFHE5\n",
       "CTE8Ln5HEih08C4XUnP4lyeeUuNUq2YqMGsv4r9Z2tj89FmvONs6fberdvlR5j1N9CG9mzjp4gdK\n",
       "1id53/PO6IuaR+3rU2XqZ0UKOVP6TuRvdM3we2fLaw94aZTNfQ2fTNQn74OGsc81roAlW3xYGJ92\n",
       "BB4BzisY40qyyiiHbV9ICs85Gnv4sOluh5dr/rV0nr7C2BwtFW9gHN9yVKeYfMqHLLPDZuYxtGYl\n",
       "DpEzz+UVRaVt23vxrNuIJiRtQc2KBiB644KD56zj9LJGO13kdPWl3Y0/6c3hZ89fNdw5+6qpu0OM\n",
       "usDho/x5mapEyU7qAsWIdZxvZea0/qbCs4cg3C+R5sBN057PIUpeHEJVd2QM1dvUN3+6wHA6fPYf\n",
       "/I5PdTg9ljkj3yViN2Zex458xPq1i0O6CFf+Y7FcpG8fO5fD3f+2JEXuWFpj1wAnT90XZA9Zl521\n",
       "pVsHkimJMi22sXx7b4AjWSCdSXHzOKlQIZnLAUAHC/FIx9bU1ZNZSqRz0XCGpstECq/41JFdWmiH\n",
       "5LTdlydzhv6sUJ/VYaRitPoNg83oEvMTEzf7GBPjLooeDNiOYiiNbBM2SdfGtfkeZY3c1kgLl3Ef\n",
       "u5nlqtRz6z1QVsEDnzYdHzLrY3woMZ9LZoviA2Eg39J/h4zs6mRe73z8by0uyJ9Dk2cY6gUOJKRG\n",
       "zVjwXP7ALeUE6x5qOpRtCyENqQ7usU/lcd5DIw6t4Gd+Pit2SuuQhNgQHQzaOvM11CfPaWanP5d2\n",
       "R3A0cfU7AgPvuOANn4jkp+e4b/yu2V9ZuuKmypNrKRxz0p1cC2kbwjgSvrKAzuZvcjsLsF6uQfjq\n",
       "5NlzZooBMOqTgFtDH9BpwgC+VIcaNUTTr82fMZ1lpl9WBv/fuYXinz79dD8paKAOr+W+cAs9uSWY\n",
       "Xvz6pzRVXo4gehwPAlYR9bOdXw+XuOzipPVJ+Uf1mAf+ZyqUGdCG7bZ3x78T4WE4KnntJbI41qhb\n",
       "XB8N/JOkktcd9B7/4y50n3E1TRAWu4FJIXGNTCUn8DmCpbJ+iU4x252ga2/5z17AMy7/UueppHzx\n",
       "B/wI6fNGzQ5ep7LS0PkJThUnhxjhRF44EsC5hN1+cM7Vn3SENiDI+FmGkZa6MEkV8qnx4/PX4uXy\n",
       "xiyjdN89L7LAInMajhB2N2rXdFxl6YgQOLWpx4vip13+SDfViPGzFZdzEoDJoWkFe4S6z/Dl4P/h\n",
       "JhsTmw4/Uog/sdp3noKmzNfCdmhHcsJjfPWrQ5vtqMbUgJ6uLqeUBC2vifpriTeIAH/Hoqdq6Noy\n",
       "FaSgxF1DYPhhJLhmrvAfjyuqb8cZUjvMakmQqeyN7AJjljDgW71wTnuehpbHiOxhicTTcCY4Tc6H\n",
       "VBgrFI68q3Zff+WZjJDkdjgh78o70Lys9ydGI0lIvBYS5jfkFzFrzExjOAQGLwJWGCDcUXAqw+lZ\n",
       "pWN78kOQP7y3ujbWHHRNVrgnPbKz6FnforyH4RmDqIl9H3wYk1AqD9mg7kzPo/oYyME/TMKSNVxc\n",
       "MV0dTHdU74TEaWBYNUsODYGZMFE6bk9kD4OK8OP9yTcxggtg7g7Bnl+EkXiKtP+P3p9z458fKhX0\n",
       "gpyh01NgEyZcDBnZh4CHr6iSKR32Qa5NReclFNJ0Wo4+P9l+VOQY0WP/5MRf4HS6J4qQ+MORXdrn\n",
       "YbWHng2V9ul4C3Vdx9I1DM+QuSPiznTOHqFIyNyLfsv/F2aQdyoRfN5lX5NtZUimpoSHg6ofNhQT\n",
       "NDjRFbdykrUf45yNRhb/K5EW2AdRe0hMkD9Cdb1iHig8uPXXC4h1xuhQ+ulakT6CUfoLYRbwRpmx\n",
       "8Ch4wRIQd6uBzI7XKnsott/Kowvl+aMx22hrJ5whLV/phl6DPepJ8zJcjatSeeYDnf8vXQCMOFb2\n",
       "4Wj0goeaqc+wkIQ9uYXpyjE49EugQjCrguEynsdXUPiHw8NVUILJqREkuj4+isJ2fkLZLS2EvKUg\n",
       "TfSKEwypo4vKHXgyChfusNpdgsvqXtqVFxx2/iDzoWu0P8Jz1MAra7x5uDNfF2ZHw5oGFD/AkZFv\n",
       "Xx1w45OMrczzD49E0384NUku7xmnnFJb8WwUgeyJ4l626YpXzFIQFjwJoLejkkGSkJYPwkEriv+G\n",
       "DiLTwQm2EjLrCPBfHpupeonMEofnUElbNOuLX0oUnbyxdHEKp9YSJvComJsgFvmz+NDqjaYx5+Ln\n",
       "tjRo7urE07N9r6FhknsRnvX+caBAOfUU+3DJfVLo3WayECym9GLmOhvvLacl5T4FYxKIZj/mctMv\n",
       "TXJZhpPY391NxjXGUXTVrK2DSrglosXLWcsV6z3RIdFEj0eSRaIJgM59WpAsL65y86MxDRO+AxhD\n",
       "P/MiUO8gWwjTCSnd4DO38QZ0RSS9XDCVZ7VBrj8qqNuCjiYATn9aKR5aFJ+pN8vU97Uo1LZAwoU8\n",
       "MiVivLYri0R8eXchbyJSkjCI8ewKFdzyBstlNn2DvBdeaNOdo8eNE48WPR7W5dOW/reBAGccEcb+\n",
       "xhwJO+6Tx8AgWQ8HT/qiqQy37frc9eH0PuEon4pv+nAiOeZBZoHOP09Gnz4cfjIBmrxvqCPQi8y1\n",
       "oF2JlPMboQKRrC4ofVLAjnkuuQ3uPJBCrd7okiRcunWyPeVYbuKRUAJbMYCgSZzS85L2lxvRoYgS\n",
       "5SDPIfN/mCg+/k8THO9P58/GFVuWl6MjbK01GysVyVTuTwIqcqaAHfWF1HV81UhM0moFg3XmJpai\n",
       "TyFbxqJLCW/qd3iADpnSGllqxLxoe8GsNrm9AD/HuS008577EEIvFedjiCDQpsqjXMarMgpiQgSr\n",
       "Wr8L1mY3S7QV9m0/Hb5htAsWeJNsCBYWLLNCsYyV8h4bKjbO8EqHlrgOdHX3I/LeOc0vjkuD27JA\n",
       "u2axi59bzCuCMG64ErlkudcmZrCDtgm+WezssM96Xl5Lz3yk7UA/x0d6GGYojjWTwsw5sddfo/CX\n",
       "KvxWsVCVovNGCgeCA+EjMheYmBqLf01uPa8HTVOzcPUP9G/rueanA0bgi8/aEsrsUoB/A7/uYWiQ\n",
       "UFq1ciXd4hD/jxPgDEGbg9S3RdudHuUNdIEg+klSoowXhUfkDQdpFe3rMdDVUxB43KgZGtWeKh2H\n",
       "KOvC01Iq/ye9VJVPsFuu53bgItaHvR6iXvWDFA2e97ozjG0wNRgrR/2P9YF3t9U3cvTQmFaOgEN3\n",
       "wvGE3sxK8nN5Df20FOz6LvkMcD7a2fI9a/4yVSzuWZsJqGUmFySnt1Rir/5mkccuIBa/HJnrqoyG\n",
       "pB4SFpCGcfA0C0Nkbma7U902PxlQQixY9s0gs/VYuFKOtPLAEW3+jDAVcxWrRgv8uTNq5ix/jJWs\n",
       "+c2swzOBQPr+1douikuMHgGOMbNPJ7QZKwOAQJtfjD8hTKYD1FbDPdSSQexyq1DLhQcYBHy+hOXU\n",
       "SMA2/aNY8zys9FJ3IwTsxgLBSYUv+egHSeMjEB2jpcg5N5VVYDu/YS53EaQsXhzw4Ac1ytjbwcjA\n",
       "pRkZCnTeTrLGxvKUrYRg+mRQ6a+4PfGFfXVU47Iz5dx+UOPfvh8FRpQpko8GpaexnUwSRbdPtEWZ\n",
       "eeGzlgPoadpQwp3nhmVArvOvb6VYFbySzcjhmst85ZEtIT4TiEPrUk/2pL6prfi3K9zfbgSTT+PC\n",
       "MHX4f95FQ+3kDJY1rtZ5YSSdTNlJR5PMEpiscUnbZqKOpWNeXq6HChMazm8z3C0p2MoDZCnvERKx\n",
       "jiPy34xcNyIYjr9eB7MAPlpycwZSQvi6SkC+oiePJZbt6IjTdlO+zdIoAGiBUX9Gqti5h+Uzeq/u\n",
       "oqQup+iKy8rOum1b3qBY+pyqXcXi1E4B2Bgx8EeoR2uZrlIpKitfMFLjfpbqb0cmfO4dHq6Vxv7I\n",
       "twBwXLO1urZSR9ASRsFiY2H1vmLlT+gUHID2xOcPqzTdGGXJAwUuhAPqGON+jJazuVfxDERtFD/T\n",
       "xxFMCdONHpbmG8ussuGUpWh6+ace5PDwyVTDTEPhccfUio0LemWTtHSOMHTaXvIooElq76vUIzdp\n",
       "5HDYYMdeS/EFlrlyn4KioXczqHeh08SAphP8L3/QxcA8MVmbPHs6XjJ85NYDh0ZG8sTdHVVvfW8S\n",
       "L7/QpnetLwM+xfUUg1hKuL3EXs4GKh4A/mpKqRjihd548JdpuS14BVW/B3afZOdyHuEeBraq3eq9\n",
       "NbZj1FjN0dmDAZ5YP+yCRwduWhxMol/jA8FWgkXHcpv6h00Ln44+aF92Ic7iZiFcXP4L9AGpBL0+\n",
       "lRVak60kepOJiHEoEGM95YBQPgxHIu0sGZDRRVZE5FQ9vAPRtrVcV7MSqJInv4iHsidtSkwlT2V6\n",
       "yjVrylE8OPuW8iH1p9p7Y0/Bs+VzB3xUbiI4E8drKx5z15MW+M/XNlb8Z1EUPUKNlvxmyUdnF2xq\n",
       "LiOGQfPC778V3qmqjO88zw5W53eGVfOkBSHTXwf/brEQ5zI50Yk1kZ4tZ7CfTfcMrPFuue6ytzzb\n",
       "W7R83Qf2/ogQ8ErQmZyir3Yg5A3prsT7VJQ8/+dwmh3bniWkzRhu2etfQhR764XeKqakRJ+HsJO3\n",
       "5ofMWhQcMC2+yHj1yGZG+WFdlb6Xosj0CMscnhMUOJYoJh1ICqzC9K2wHoaopjTOaF4/Olc295ql\n",
       "nnrn2kNGRWdBWLaYWMWtDYAKdei1dkinHEqaJ8LlEjFyENWt2uf65HbsVJT6kiDrRZezQE42Pt/M\n",
       "RZMFFH72mQ6KFFOJV8HqBEwab/W6MNpgLKJmo2/2/9SAr2usSsmt0ANbxljFaXS3HBvCEGd2AmC8\n",
       "pTTaZvDd0zYxsOE8O5A3uosEGUP5IJdXYy2tRfO1UHnu7CH+21VtwWgkU5C6bs70K7A8bxLSOCFS\n",
       "K2thnBMf77xCZpYDcb39n98VWnfiOTv/svO4izF2ygAQVt+LLembKDjhWaIQkfi6L5O4XtqL+n5j\n",
       "ivHwbTd0fwMsDNtDrF9lx1i5QefELcbmFrHpTcyMoIpBbQaB5yLuGvyHz1wuwM122qiqQhoflvq8\n",
       "EZD+ElisZIJgkdggUx5RA60DkPukYcgtk7p0Sz51KaWBEtlwwcrt1FSXy/jLoXP0l+2+ZfKPP4ig\n",
       "6WrKN4U7AQ41lYrZfOYx7yWMsBgzPVv1T9BQbHgEJK2/HH4B6sJSDw/RaIvs8Ge8WzO7+GuJDTak\n",
       "hJWSwLGF5txQNiOqQVerLHbxA74EafSrd1/4LNADfBflNhP52ZOpmF+JQuHs0PRXhJGyrwX8uRca\n",
       "Njg0VEDqO5tHN84hWB3+L+8mDKYmmrw5PdnGRjdGGHc68B8OXcjW8IdZp4GzTRTRNgkM66sGk4Nd\n",
       "HnL48WiN5nE7y5SdzySzNlYByHUt7YjXGOsMOD3NBPJrvludL5X+8Nuu1SVke0g6/NKVrAYeUD8P\n",
       "gTWx7n/I8gAhO3RErb/6wQcUj4aFf21u7LkJEWOzCUHM8Zs2h935nENima3iMDGBLdAokyqhvG9D\n",
       "KBvUcgx01KwSHeLTvKnLc6ndq0Y2Wtme64inlNmzGUWX6si9iYZljlRUNmoGjNtso/v5LNOaPrc3\n",
       "ffiUEO9apoMGQEZzAn6e+wDAO4BSmTwTyT9bevQb3MEVeJp8VB19Fcq/mSSloIicDYGUln+Z/UJA\n",
       "gz+Z1XqABEN9u6/uRhvg0GBPMeNboRzbcc18qw5FrIIhMJIp5EfDwB4kEFIqQqQczwnc+pwm3KwT\n",
       "awoKsvlwgzDwhK96yZizSVNwix/bRoYne7oE8PJqrx98CY8MCI48mND/jW+QN/+uz6tfKxwG9Sgk\n",
       "h9UgE6uyZKqp9gmGBJY1lje773I2f+z9lt/G15BkNBQIdOzP9o2NkaTRUE7yRPjimD2YHzjd5IxZ\n",
       "6gjI/bPMdcWzDwK2ldGsuJW0n2xPw1lS68nNdgYpo+gwsZtXNmRkRLg9AuaV3wJWE8AFGqAaHe1k\n",
       "4ANHZErDRC8Kk0MQq8o9B8srXstHV0i+2jyNjfqcj9DpJFJ6AmVvPJcIeTKoVbbuOQDo316OUrAJ\n",
       "kbHk1cBY6sPeo+UppC3FcrI44C7g0147cJDkZ1Ap9odJzGSP5hvbohenCoP7j4/+pL6CdEycHU15\n",
       "u9gxeocxU46+m/xevU00ewdd+NvkP1UetQlAcVZ7qo6B2vNw7L9CyiLyElUbTfZk8TcOyy+5g1Yl\n",
       "lgQUN8OJA6cUziIZd58P1uLayGVay1FXDeMAfGBOzbmdqSg6wyqc2IdtePVJF0tgoQKo7EX+14/4\n",
       "1zcGjrT/DDOP1hAu0FAhUAoQoKWS6sTd5iWVpFem2K3YFzcYWKOH44Ad6DUEF7NppH2oFuf0wLqL\n",
       "DG+6+FW/3/1OAkMAwTO8ksJFi80ppbOONfaQaYaaCz0D+0arQOo1mV7GOp/lSl5myVObEac7roiK\n",
       "/17KsoyyY2Kwt8CdDWNVmCu1G/issWIqwGRxD9/MJlTMVqEKja6xbXvZ3FUKefT8HjC45DXA77lo\n",
       "B7h1woiLkwmOf3BfZGr0Us5V3v0VtU11Ok0VIrJivpTFI6u1trVLmsUR3IVEjIoQ8f+/yyXWg1Ar\n",
       "A8xqfQYrt3H3dMZU8/t3GaILRsEeCuraJvYa6POC3Ip9uQ8UZqtvjDNwQWWSXQIdY4JvlEfE3txL\n",
       "drlS/tM/iGekdKZPHFFCYmt/09hpCG52HRCOeg+1UVoPP8/Sj4hi3FxVCGxBjAYJhzks0kyyyvef\n",
       "D+WrgoPGGmhtitPFoYSQ8j9DkKl/sMpnXI7Jce3gUn2GSa0gBUpPoTIocIrs9XgXJ5QlQkPfWqn4\n",
       "PlJWcV3513ij1HXSoLNLtu925hue37dVn4iPikghV4uSdRX+/kwHDF2R04ayGGGx5us1uwrvyvOS\n",
       "rZKKGwy2tQMobXQ3Ox2ZdZCsC+/bKgS7SiuC1RZF0oX4OvNrqfbvOUeAFZcbgvJ+lxYl/zkgf7nz\n",
       "J1CTfsQCHarGJK2XpbveXywNQrq9TiW53z6t9EKvpnq5w1VAPLlrXwio04r0bomhYg21sXskAmhQ\n",
       "23pf3mZUS6pmOWKRX8hVL45BWcO/rmLSoT8D/1NiROAwaroOcBV1WJ5WCcorwPlSH3N5+/S2hK4i\n",
       "XhWKaTmPvmoXKttrlO/6XXPm7ZO9XWM6iv0GhT3IzfH9jXXVAVq5xm+PlVyjNkF2LSWjxEJTeXZA\n",
       "UTNSFyOStYAyCGMiQvxhBq2lzKFAkzjxIaaOndb3WfI0u63IYnj0BHK/zU742Y005DMocd71Kusf\n",
       "H5f9TjV73/qZQ8CKZ2bUYi+GJaqD6t+zHclz8DgUCQjvneGV5qmSk4M4u6zO4YGPdqm2MJqQGVcH\n",
       "m5Y/nk4ofCdiiElIEriUH/x5Oruqm3y/TUOKIv7e7L+8qG8qJpl6cPjmc5v+S3Nt2VoxzDEiptZK\n",
       "IRnaCVBnfaaz8jpcj1k6oMWhJuKdbGf7jJrx8Xzgx1VUuM6yk2Du2bYUVDG6OWdY8L3q8CMn1/sP\n",
       "l17vrSqWULoFuiu+jFwc0MR+2qT3FxpMWbhCeUoSkQMB5vE32d6fidIzDSs1xr8819xGTRpkGrBk\n",
       "n/TBOp/poEwpoiw2KVedFs9biDoeLmYCoOrR14V5LjlUEtM5cB7mKT9J8fCtl+wgXPz2XkAlEMUy\n",
       "wd+zGOobAjLK8RJENh8VIyPfsc26xMHjK0lQwqrVTnBFcsWU9gX9s/t5l67yLw+hv3lslXJpGB2c\n",
       "21gaLLvGik69pu6iVktkKa41n6/8JzdFu5SMC8EtSvQZNnJq7WmjQjB1rTcuXLpTdJw6swxQ4q2e\n",
       "SsiVr2GjEGXekFz21V3UXpVkswITB76nCS4YxwaYx+sDyep1Jzhshj13Csj8Qb8FZsXnDbEsIxTF\n",
       "/JB3n08ic0j+nUhnDWbhbFeie55+p7KUCHTvQcAVhh7d4+d5Jv2EZsHllv1UtH4c9cspJsWCNEyj\n",
       "f+GuVibSru/5LCA8biYl+y/6OZonLq+9MgGY5aPSWHARzgph0IcMvqIixEv9kqW4MT9/fBx4uAty\n",
       "j/qSRm6z+sWx0KNZpvM8BYuofapylnw4GZArsmHburiSYlGCLD6npgqr4IJRy3CFXu/7DoCOL4a5\n",
       "HcREf6SJLplextrlwOOSrpn58ubx6OJobduvd6hpAgRoPC02mB2wI1vskoTBl35Dh568qmWBWJcX\n",
       "mBP+f1vqJiZO1N95sWgKUXZacJUPb+hDhGdPevvtT3EaICXYGyl/K7+8Xlz0qw5sC/WTNE9xy/w1\n",
       "sWnz9/e+YFi3z983sjdWqizWfQr49L6DTyrMtKjEc0pshQovq3SVxln0uGqNnr+M2VJlloYLbeWc\n",
       "Rk+0gMo8kTn9WhUhbrzf8UeciYkqRMnYi5OQ00B69pKg5AGzjqGjO6F9d0rPs80gBvwG+Im3gfUI\n",
       "ZNJyQUxo9sxFJ2q+4hkPUM0KqvfkohBljIXlwewFu1AT4tNvvhbCKcukB70T+xHm8IIqXwN3zKMZ\n",
       "p9oyUxqxvhWkn3PxhkZqD27qMW2Pm692akH1Wtl9doVUtrQiwbN8tmLNO/OiwlyM52SEV/Ucf9dh\n",
       "v4yQbLLErt5HakRvir0dGVc1FBdDAbRU/BkZ2kP/M+MJ3aUnVAKFm7HX5NYaA10hWXiMynWC2JdG\n",
       "KVs3rxG4YRy1m+5cK4UaBOz0CgjlFSfsDaEo1/48gPFEal3x2HACF7lxdm2nY1EDcDNmtX/24ZMZ\n",
       "P0hDi8abtI3ouH2McEUOKOoz855/hN9ATDJCHEcb8HHcKioxb/SesoUHCcV+pU8xqV9xpTidxoKz\n",
       "vDlw5x5pLMMfjtWdOzfTtK4iSvIISdW5xgr1J10XLJ2/i09DCmDrrQZcAQVt3aFMgTcEPpKmN1lN\n",
       "7wd/5JIY4UMYS1k28M6vLbsWXuipBu+Kg4suS0hR+wAk6pdvfDxLVtH4htRlAtDC7Qm4Nr8fxM4Y\n",
       "8YxuiSyJyavexV9AxBcOyrcDL9Fhy8dChlQChiaerg8dr8x6lbTJDhoPZ3GZMQgDZW3gUIty5+FQ\n",
       "DazPwZHOoQxx7FiRQ10JfoaUOS3sLlpPqwoYT5j4cKtPYLea3o36Cc8ZnhdrRpZ7X5+S42v6t7wX\n",
       "dVrGLT8TS6X4iW9XNsTNO7+KBU5DfiP+Yia5/mbMWYhoGQ5zDtBul+jrJo0RZMewz8I/H+i3RCgF\n",
       "kp0i09KY7FGooea4pB8Jwg68uLKR1qvXfpdQ/hulfnElgvKGHxtv45OJkAid3ZIgozxGslajrHt3\n",
       "JMwuGrcDknQZ34uUkLsj4wiPHWXMBxNgOi3LWQ2S8tyAJVU4eSPQu7/ksBgsOE+1oGYsib7oqiDL\n",
       "BQ3SRcyhhWdPvugXmioCpJhAEfFd9JWrbA6vQG2vVHp95SvaPS408aSgxzo7c6LkJUcI1hM3BMRS\n",
       "/YF2i51wTDRO3zPToZqKdQf+uZVMX/thRoJxHudUUMO9IXcqmAFaoElftT9x1jreMJJkLSFN9x8j\n",
       "k5byvLrtkRu5c086r56YGwT7eMtJIbPtvLXjebsjxOt2/GFG4FNEIwZdyIksysPY2RWbJRI0j57V\n",
       "szY9VHDD1E9hWgWcO4trOr7CHI1W/mKMV7UduWGz59dQ+zQ/65p+WhlR6269Ik8aV9bF0F37C7bd\n",
       "4zSzhmtCd2ge4qtZfpKNTmxI/HhcuXo6FYlCOgXpE28Lsmm5SuKxzpprt5205TzZYu2XBMmWbYkf\n",
       "iKE1zERQjXzz6qSkTYwjIIPfvsfp0qlkrK4+gQEmWfG9CXrPxK9DXjYzWO6lRhHcaVJzPc/fjnS3\n",
       "A4VAiPgifllU3fWcfqR73sEAxol4r8gpPBJp1IYrD80RZ4Mn30HWx1cXGliUYLyUIXAuStU2UlJu\n",
       "LuD1rsRttXxcx4uUu+J8MPS6cl0IJdTQUif86gQ9WtFZGXvKjHEkKLmyekvOwh3nvk7835cy5qc7\n",
       "GXg9PsZh9uwpMRQdn9b2yeQpUnosc6pAchXAXQbNJFqpgI2or2jmwHfQsQDDXBq8cQyLYYAozfzy\n",
       "7DGg/Z/FTYEylmp5lobx1ZvUu/pcXWPKlfYNixpsqt9cO29beNzHTj4sjA2IDngbBAdQ9FsfXUff\n",
       "3PTHOX2jOyIj0jLMFOVpXrP9vDoLyOMV2korzI83Se8k63BEeIiBWoEDUas/stXpq2+FpMdHybMO\n",
       "Ddm8XZMLCkyklRghziBqbKWnawasgLTX3f7mET8jLVGPnkozgolKJK4j3qWKVS3WhfVIK7L5hJdE\n",
       "L2iTJdeGnwW51YoBqeLVfhSWo2hfuKm5rqOYlaa7c7TKBVJTl54GCfIj2E6/ShNrueRYVno/cqig\n",
       "cFVY/Ysn+ofD6j3j6sC9UDkcmqBImHem18SF7xGU1sx/wVzTTni0ydvIJKzS2/azcXzfD2JQxWP1\n",
       "Grme2LQ/kIk8qZ2wq3UK60y/t6UetIoLffIdV0Firgj70IIx3k0dV7LcwI/kJVc10FXAL+aI+t7h\n",
       "uYN5bAoX2IiAVdcXkuJwfKnB70HLSc6+6lLPF/UpmFOC/bfmnSqFFjO/3aJM4ySKGgI0DEkhNTfu\n",
       "MuZZsRl1tqyNHzou1ovcg9dqMNQe40rCGSgyU9vsoWLsaKr7jv16EbumXp16hBsnunIw9VY9oWl8\n",
       "wRr45CyB6ajb7jkrTBHplfknTDOEU4czCPedfJBxbaIjJ+3Blp7GocX0ZMRI+kB5U36HJJADE0ub\n",
       "u/raDdVRclUWmmxlm2BKRJfUJZL6iJhYvxaFEVu41HGCR6KOtTmyXc/mTbRllruYHwqaMLBMs9UX\n",
       "ZBlrHfI0X0U4XE67CeuTAb1MuQxFUqpRXc88oCPYSVqVDOTMh1UR2uE7p87Y+pz9faxlARHnHlwf\n",
       "aDduq1w3yerBvWGPpMWJxX2ylA35hTBtPcCqWpNCV6XiaKtYxWX1hqpTkJw3lDBo0GT2EWWm8NrB\n",
       "JPJrt7dQ1dEseosUtHjy2gyOeKSN9JP6LhKbvtJWK6bzbDOnmlwfeKCc9ZkhlkqoxDC/XaqkDjHc\n",
       "v7SgzY2bgDjWOdndckRrsJQ/KAk2EQZH48sblIXD/NuBOx6D2ZR0aSJqWa3LvKnw6s0UWJHGAKGA\n",
       "i9BgaAwnzRsXX8ZGbpcgplxUWqvFJFkjQiDY5dE/E0ws6wpK+WZbomhXGrs1sGZRF/Qhj5U7ymQG\n",
       "T5HRF9AL89GYHnZOVZikru7EJbyQUnFEYySN5/+L+NkNQJSk6SO/3DiOcXNhXw76Gp1F8hQnc7L/\n",
       "yGqfQ8KArDdMPFMIweAO93m5cLUfx+hk+PZeA+njXDZ/HZK4xYNOgMbzGi63rZPh+bvTyWpt5Rg5\n",
       "L3Aci/jcTymf2guYyr02WPRqN6CtSw5MbRvxViqPKTyZP0NK/d/7hwh75FPFfulFwnFs/ZD4KKVT\n",
       "yYqD06qynt69NesrvPRvdZLczi3LgsZltsRAV8TGNxK1AOEYaQFE6xBmMm5huzydBGQgv+T+wADn\n",
       "f7eBhhFsJxt0EiOA+qhsnNlw9cSdeAezPlwOAUJgwE4CjrIsRVSVC2lcDAM/WrLEVkz2dVwTe+qj\n",
       "74aqaRLIbGoNnjI7pxN6Z2qeNSSbC+9A95D6GzZtB3e8MGevv5dzFE0eMAbSFNlpExAMo/0UpTpT\n",
       "2ElQPVumzgMlslJisx1bnnbbQL/v4SpIV1+luACgqX8nRSy6BaFyD45zHRFwU78I62Yn/nT+Mjtf\n",
       "SmVOQpW93lIdHuvoQHB/ziYWKmGSPeyWU2QqQ8C78AJ4V1oczyM2ZLPjo75tIFObFrEtZtWDa6Nh\n",
       "qhc9Xge5ahOMxGI3TWERKkOqSKwD2zmFpNdq9y6lZOMU944h9yuNCsIx+hikEDjOwxGJCuX7+KhP\n",
       "3ka1jGC3rn5UAFa+Yl22J5KxTNSa6Vm7aiuZIZ2o14FgcVxjaryl71Xp5ZHT4IczfVzHoF0tSOMr\n",
       "fzUwAAendYAJMzNn5zXyTZtgPqCg3UbL2UU3j8YlJUIyM9AwGrANu1nINNm9rmVIInZOey4FWQth\n",
       "Bp8/I88dpD5U0Nol2B/hpxUn5jWuvw2G/pfyasQsESF34AnxEb1eJ+2YrCPyoPmx9Q2jNyaA9+2h\n",
       "ZSqg0m+sYFcDyMl2Ns8X1Zv1a3ofKwXN3U3rakT49JPenRFlJ9aw5Rr5+utSp92CuHFEgFmbiFSk\n",
       "iF/TAyA6Db6d3ddKAVYjhAig/lxjbJ821OhRNQnal9vH6k/+OY3UOvHDJUaCZp4yfrKyJ7+Bwghs\n",
       "2OTwYiWJETbcP3+GBrFkGJ/bWOvjxPo0HnqzbWYSUtbOiSPPmBOUGLpWdSJ+ewKZEAzST77zhEbq\n",
       "vBk5sgshZ7TA0D2XRYGwnw51fB8fTOZKn60s2QhsRtB/HSGuGStQLDvNJZ/KN0FqtVhJqyUw5LXB\n",
       "Rc9PeRRmPQ+84mnWP1AXtAU8X8zAFUwvQylYN+3dkxoFbr1f6f2iz+qrMEMViYj231m+2YUzHDl9\n",
       "dIK93qD5rhZvzhHE8rbMY8UwJ3wXGpTSe1dHYD7x4INxnbPbz9enTmeKytbfeIs8AeOtCIg80M21\n",
       "sVIFdMzGLHv/MvcFKmgvWTFulMkK9Tncdz93bc0LOAwV5tcmH7JYqD2cL4GtZl3hVQFBDPOuJFzY\n",
       "EiFfbb8F7Hg48aTQI+5ad4TEkmtpnvpc2873pMD+xrzTLbimSQp7ZLmuUiWUbP25faVehdC8a061\n",
       "CnItGK/u/Iwapu8KVoVxaTFhMCBPAzBMz8/HwCbyMRF6JskixSbDhm2KqDh3DKVIoV6ukAc22Wt6\n",
       "L1sqRzFBuZHRGmTu8HSH3sC1U4vCw14oh3+DOQprhklvCmo3yStmJmA7ZLsJEs869dkR4YMmf81i\n",
       "4FBB+tO3mYmHoGlHWyEu4aayyPR6SvlbFASfQRwB82nzARZjlk34oJ0g3tFianqrGocviJrCdUC+\n",
       "Uo1DbWVvYBtGnMgEsvHvTLyHt/hwS/DzSW1QiEAaEAcVvcOlPCzsIBzACiK4GubqXrJCYmKcQpX0\n",
       "4ISbjFlCcCg2BGeF9tJEGlBG56821ED/snLbVv2Lyi/hf0C3slxqtKOPGurwVS7hPWH76j40ThPP\n",
       "/IBnEuneMhb2GKcqYsAC5uY1qpdUs5SKfxlmzgrn8rBnwoUBdA+9eHWfLFhqaTjHzwE57rA7aZ0A\n",
       "mePbnNK/ArWZCwPWInbm/yrkhw7UWnluWDAFMbfUdYAP202MbFRwYKWriDmcXZQkuvxHsozDtO1V\n",
       "rTsf/QA6zUHydcUbOySmSMMlfKWv2UMB1afhNbj85vhxEXpmbri47J+ew2FNhpyTAOQ1ZEwTIMXU\n",
       "W35tkTsE0U/iTU+meMQT3eMT6/BUSmLiVxLUKJ6CQgqBHbMMJy3+6omr5bkdGGD2oaiUqz93ev8D\n",
       "q8n+ZzzzS4/ucv5NWC9FQ/Gdrutqbz6+95bJzb6ZqvpZ4lj4cTAkd5IPJYxeOvrlg8AUqq0gajmq\n",
       "NGd1CrxVMCMQ3H4jWBs2IZvrTViqEjaSLsOZrlxDfqYPHNb+DDSmz9uYEiSJ9+DHRF1wJ3vquMwk\n",
       "EwAJhNF9txqEAMDXQ4EWB62B50/Hq1CM9tw9PBhDNc/aK48Wo2iuI4oUWuUr9vBT33AFxMM3R0KW\n",
       "k82tB8faktepiZJBe8C/J6kuvCuQtxtvB41jl7lKpda4Td44NvnfprFpmD6ZMF+UnH/rXEiBnLu5\n",
       "4rEr+2s6ZdyMg/r/1eyqCEcil7PCl5nytFItCK5khHkOTSy8Feu+jptLdRvVB8dNTHhEHO6j49T1\n",
       "JNAfalmtCFpUW5MLpINSCSBdVBEL/+NqR2kcNbT5VLnaN8ykY7vEUlf11oMqp0ICE17EhAKyvPrN\n",
       "yAq2ari+UXbjU0R4zD9t4Uq7GMlWConlWstWKAZhTAZXZAI+nPdvq9+WE+q4V6s3l6BKsNqQdRUT\n",
       "jNJXjtT8h6B+5bJBaNQ3KAenQgDH/75i/5cOxL80TNSu45/OxF98OigdiyT9Dwnf5UB3gez/dUUo\n",
       "+AG/8bZu0tIuzRS+R4LBeavs6/WDp6Y+qdlTCEmPYyivFp9dz8dtAnGfnKJpJ1MnfOqTE0GejcbF\n",
       "u+K/8M0aJClaVHLOAtQx4Kw/49PqzXJYgjL8bfgfLGXjXDD6i7EPMKFg2QTh+aIuzH2AXHO/QOmu\n",
       "kaQw9oiMFXNKchAhURb6Y8my0AZHAnRo/BGxSgIb7lJdaVXhrWXSjnSy/JVTaiJC2DepjNIRQ1Fc\n",
       "BvnuEQ0AG5psKUEyAxEahQRfKJpfT0MO3ovAs+FuHP5KLAWsnPUgr5Kkkn6iMDnJnzR7aRUR8pwP\n",
       "E97hEMaEn/3fuCVbve343iOZVL5GDZZYtYIj6O2axQJVvnBnPBfIk8/wnnbmMgnLWLc81XG/90M5\n",
       "8FjoGDXxSQsumnOKYQb6vYY4klsISeTF9gKQp9gIDZAg8x1tmrNM0++pv6yicZMWTrpkcAy65q14\n",
       "0M6oTAGtoipUXChMy7wgJe1i+TO5fdP38Y80LO1qDB+4hI0biEjFlkpRRxwMMiVKHMdmKj9/6Ff4\n",
       "bR5sCujbMugz2WpH43hp36ly1eOm2tWgwyLyLr+jYACTgtxQ4+AxiKaizBFhE3SVixR/S9q/06uS\n",
       "rrTFekpaGSA7GpoPpKMKh5+c2bLiZrS+T0FT+K1qhCewZ7b5uFHhVX2eeq25J4pEFgyoTYuRFQOQ\n",
       "CiixWyXXpAkrYCoHc+HkwwpYpSsQURVHn0sTiMVxvFeWLKRFiZC70bWRT2bVXQM1cxwOKEKK4hIv\n",
       "3JL9p/vwt+/vtiezCnI/EIIdJue1nSS5k9jmMsTZ0MYdITe0qAYKDNpfMRQ9qJJBKGJ1isOwKD/N\n",
       "ycfQTopYrhIlN1uhASmdBpiqj/TC2iPAyVVeSmVeH+pE28S/ET2oIumReuP1ms9tpzGNYdAuwNUf\n",
       "T4bjFuIOcT+7+cUn/Y+ZA4nVKKGtShAb/mKtNuuhOnghYD29BXSskfsGE5pEuI2bdUWMDESGFBiI\n",
       "Bf9nxc2eI2pCHpKgvU+Evnivs/NVuXWZcw0aZ9kz60RXRu6JeSuI+YW0WG9Q5U7x556WO60otFTn\n",
       "RdKQBY+x+ghL6Q25D6w3Q+8bY/IpEziQ0cN+qa3aX1tTFwpRRHrqowC8O64q3bNsgH1+whgp2/nX\n",
       "C6W6c+PVN9mDzTXSDA+Lhs9W46BcD6YD4CYoZKXUnVjH1oX1uGKG33hT3CkN63N/HOvxUbp9vYSe\n",
       "NP3V+R43uA4Afe7hByAJiRDluRYuNZnigeEGRJCkNlASwuqZYffNjrJ53guzRHTcrXiyryDnJ000\n",
       "q0IMzNI/2JcnaaD98ZMnYVsWZUA8MkNhdCy4b0MhotKDwqqYJ0xLCfGPt6cDcwWdKKNHYLUFjhGE\n",
       "gTofZYgntzv0/WSPXeEjEKtOPToRz11zVYdxy/r+0Lchn3VOuBQF8XoZ0uyiuuOl7CSib6s2vcES\n",
       "Hcb5JNhpqoL/A8tQjjg7ys3MXXtdRKK2z+O1UgUL46anGIi207GIwfc14uu8idaXjgXEnZKvR6RU\n",
       "CgEqYLnSmoV5UFznXZBl2zWhT2N+gNPOIOEUinbwTMYjHvFTD2spP0Af4JdM1DdjdQUDbRESv8tL\n",
       "F8VAhiA+q3zISUG/xoF2ZjLgoHJhAmb2tzwumFkTSLdPXMJaJ/RVvTxD2DW41DuZ4LSIld3eNKI7\n",
       "6Q6Ax0P0TNm3Bmu2S4745NKpXls3yjQvX+5dlZ3/anBnL3y3RriEpQ5lNB8JZduJ/lKl0NsJGjZP\n",
       "RBYvQDlU+V8Hw/X1tcglwaTLchsY2cVO1Y3OnNFfsSqBZ+QhtMDw9J/1WNZL7mY4cgZnj6MDZRWE\n",
       "6g721ywByF9HFIz/j3mNOm2zTBzi4n4HtqFR+ZElbDjyxkIZ9YCit8nuuGijJd8UrzeYin6vh0t3\n",
       "0ltiZqRjAJ1ajw3kL+cQdDFeua40zPLg0zQFamLvWZgHwAgVJI8F5nnmwL9lcmKIrfr5QdnbFc+1\n",
       "sCwxD1YOAh/7h+2PB/Uw+mplQj9f+FJdTVbKYiWTTUMfYfuutR5OMUNLc9Yhx68AmaHsUuHDWZ8W\n",
       "uEEy8sEFeU1VWwfnwq9ylUIAcFXXrHO2/pqHGgk+9pfSR1SVXEuvf4IGxjcdE70pMpOzVkocp8Te\n",
       "KTRKKq3HLmC5EMbOxUnnbz7ryt/NoIzhQkZeYoD27qmqrGPeNpfGL2jIXTQheZpgFNUws3a27xo6\n",
       "QtSeX5nXn665eUuvCvxJspc9LhLaK01FEyGTfbqIu4sb24aY1Uy7tBO9Giy8iU9Qr0iWaYViJt/r\n",
       "8LbPhDXNAS+6Y49dw4U493WXgaN72plVb6HC5vlp/WeujkBZpY3SNBjZyAj1q7QovbObtMYUQU45\n",
       "4TtwSTAAyVr+FHQXRoKMkH1SDyMcADRyaBEO/WMpjzo/hoEdUjXcu2Z5iRI2LPfiXS/jU26Uj3ii\n",
       "Paznx1ZIFBGef0FhYsk8TrQ85GmlaM98YQx97QU9tANPoDQAdb8RXsHYRadPwVilnu8IWduWLhE6\n",
       "JmlB6ayh+sUqgM9P6RA229hi0JyW29Ki0hWdAiFlGt1qWuMIXixTj6sXYQT+1Cb16JjV/1wCuNO0\n",
       "HL8W8e3j+ME12eqxdbZCWnrtO6LGf5ppSykR5x58c+ZGtp+GqRFQ+bAv7MXKM8Q0Zj4wWu3+8wak\n",
       "K1dfTCT53XjqobGk12CgVml6RExgf6hkl2JAYonaf3E56i4oX07q/ImjlXBoAPK+WtAM+uuosH3R\n",
       "9k5O5rh3t+6TdKxezn7Ip5fjO1VsNbhYhDbdYXI0qEx2YmDaeMAwTmUPZuDOAXdfyDOZkVj8bIpE\n",
       "mcrprDfUspO5xcm70vgfN1gPN+GsfoX88BO+HEmUrqIXmJrVz20zyreqTQ6pE9Ipl4xTvOcTcuPV\n",
       "8/rSElZEVZetTgZqlrwJmV7rYxYEdm8hIpsEeHwUcSRwnc27UBHBfDzwcx0fyeZN98O2o6Xlcat7\n",
       "E9Ae77Xj8iqTeDv0huRMlj+GgctTYvZzYOwfNQ19aY5vi/OmLRE86JUI8OV9GfvrDCoMvPzNK7Fq\n",
       "cyFmd+232DHLgoWwQALXc1Wr159xwu/tX+/jgKn3ROPR98Lr9xefN/l4Qn1MZDK192JPpeFCrDOi\n",
       "Fchmy+SZXSD5SqlM16wALGcQoOZXmkSB3XwEFakyPRAVHurgWoWjvTYVM+3wZdsC2C6u32U3FmxE\n",
       "E5tkYFLJVspQMevkLbnm1CziCd0bttFYinATjeyMUApWKoFYL4hRIAaqnOgsq1bnpAKmrC+LLyFg\n",
       "eGW/fK1U6pV4YkN5tXACUf9D3KSUtX4c565CEvoU29HxFhVRQC4mXxCkRl+QIOJJTXy/2XavfpaJ\n",
       "dEzhUeJxTG0QHYe5AQx49igsmqdAVgPIpwNCY77tPZSBGOy8EVuu3PSWO5AFPgd12X963iKsOKuV\n",
       "6f6DRAuLbuwdEeBsCioUQy9cmxhCa8z1V/XwdsHuAqjC02xMgkRc3ainwFYgQc3ZjsZJTMrFOyJm\n",
       "uWNl6sbab1vLgaeuKXEGFp98CHeUeR7Q5I6VGRYf5HUv1Gqj+mtvWeYyzzoGt2sILmT/m1cJEvH8\n",
       "TfGsrB6tz+5/50ZlVCVE4nXIAClRaEfi671ElWJDOUu4bjnVSnA/ZeCQk8c0h3sFXc8ldmjDGYW2\n",
       "/bnkv+6g1ZjcdKQK9fS5oI6CKtkAltQjyuFkekT1gzXZrYad3Ybp8un1JamzO/IBd6mACPznIaig\n",
       "kR4W9MlI9VgDFJ7v8tow0hl6tcen8pKYbOKIYPuvJf4FyvLqoJMcZUYo9OSCTgMqY4gx739qeEDB\n",
       "NzuoT6HxlIMoQyrZBLGzYPkm24v1Kq9L6nMZgbjYXqaWJiNd+ngH33KO8aVezFW/VTGowQd6+Uxm\n",
       "f6DgxtZRW9aIckE25E7bcAJ052U+bvOj+X++uAREU9UH5j4r7cG/29oe7D/UZ4zll7JsLfSZvrTt\n",
       "X56xdXhUfiBQVLa6aw6Ml4ySMrVp2KufnUnxnnyx9srgnuE2WWO5nZAxCMBp4FoaPy1Xvci+Ktlr\n",
       "S1dyFSY2CCtNAFBc3WKrz+8WOA27tuKF4VBlareB9lcgrA2sT92FYyc6KcAmVO8M3tBAHz88TqIn\n",
       "X9gu7llQ6PKfM7zen9UIOYsXwRj4BW4iAT4DdSXQ9pEBME+7tJtvxjACnXY3RHUov0Bey+bjWfHa\n",
       "/s33cl/QGdqP7FEMLrI1WUWvudwBCXHoso4oazxkLANoQCp7NAqZJvGL4YsN7wsYsjfGNr/Ce5dj\n",
       "5s/Luu8wkf0inDKsEoblM3aD9vneYaP9stvqDUeLDG/rPokzV0VbSKBUdoAxp5YfMZKaj6+X7KJF\n",
       "0j+Dt6dbhnTzpBa0/Jf1IUr94O6aocW/H9AeDqFdjMDq0u24WbAJ93EXbX0Xd8dAnsxBWywPyRIo\n",
       "AX6XdY8H41oSmSpar/r6s+dEPsnFoo0km1fJzHtPWLhCEJnwr0s/EhVuXJ922h6UGo37qqbUXOuN\n",
       "46XsaRdUiMmwt77QtJyFox6RQbd6zY6Za31tYzL1uBDBNivKzFQdIs3R3FmrJ4iQ/cpJHPP+25I6\n",
       "hLpeqwZu+hCRYx9v2SKYXG2HbuHegvPd3Zdt4i+itxnqYgTkOq0D3X9Zwagnd6yKb6EMBT4b6vLn\n",
       "jGSipS/52UHYoJA+CqtZAmBP3VgQHVBi/r7Skupjh+XxAjBF0zzdYBStxhHythrO2RsRMRVs9n0f\n",
       "VlFhfCODW530HWVK4gsCLCFAq/3vC9eIsmzrm0kWkypyicMdG8w4BZNugGNnnvfRYRt2W3I/4+0P\n",
       "rJxWlGNfuHKpNyxCfXqf3kPHWmtHFf1J/nR/4XVpZdCX4l3ItJlyzk5HIqnelkdX4PFghZAaiz4A\n",
       "XbDPQ96wd/I846cJumPsc+ZVR6mB64OZyaiJperZ1GeSnPl3rU52M8BgLLLfrw7Zz18r5nJAS5EN\n",
       "eh4UPZDK/ISU5y4ha9QVdzcLfDJ5IxW8z+ApNWl1hxC39qZAb21FHuMih+gtNpT391X7pws4kxu5\n",
       "r/NCeb1aLnzE9yxb+IcO6zlxiRa594j8SuOoCOKD9l4C5Eyrf7mcSaKVL6s+zBQec4P/oFKQWwko\n",
       "YxaA6xajGWPPiVEegt95FoLJw5r19VECrxUEt3Avh4MwbILDxV88VYf8r+mmTr0HNEZx+XojnUAu\n",
       "Y019LbsoMhqosxB0pjoMuCR4zSvBqb4Un8Xgdmc15xBwYkCBMFntYWYzX8lfyMY0AndPF9WWDWJE\n",
       "yfpebMMjuEDxk2vIvekv0jiJojxsdcdCL/tp73rpxlMelH+wKVh6p1L4iCgN/Z9KSfCUwvpplL9k\n",
       "wfHZeb1ETFkrBnnHtnV3E4qSKtAyzkuprvpD72/Zf+vZpJ44OiG4cMkFI7JWD8zbgynOsw6d8jFj\n",
       "TIWXdKuoM7ELUPZr3Yy9bJnXEf0tXnxmRPFUckU3Q3PsjZ+T9ad0L1vdoE1agzmAhvhfbNV7Cq7x\n",
       "NZ+fdNrOHHpmJAgKBVAv0FwgD430bl76nUskjYXy8xAJY9ZYzw1RXODNeY2QNwym8buaUB1gBDUS\n",
       "g1yLaTC8i0bcvD7vVO2PEIZIFeAB/Cc4k26TX42VqxAc3s+SkC+n4eVs1CZJ6s+4C/qHmKU+J/Fr\n",
       "+xJKoG82buIlcYDornxYZFlTeZ7peV+9hmDfaZfE9n9oJoKZljeQykr7upo+1VoLt3B6IvOj83Dc\n",
       "IqyMpX0s2aoUSTWo5qrWgdSINJxh/E99KymOgtN3SEJ0Am7beDB0HQyQP/X5/utL7uVsakT5V51n\n",
       "R8OvxB4JdySBI3c4bXVg1ENjev/ERg7/FC+rWqNZk9zcjpA5Nq1BiG+5FW3lwNvbnEMKjtGKQncz\n",
       "QhBgvvorTY62h3W3E1kBx8d1dFIv9Ojg7WWu8uTq9cRZhPGe0ghI0nLBWqL+VNrZyeHiRd07sUFp\n",
       "KVy84Yzdy4NK2WizLtPUSMnahehaC0YlcrANA2YQ6ltXjUXrlipI+gw3JwAybobUim6sqaTgxHJH\n",
       "owL1wKVjxe6W1NpoykhQVxDj79CmY4+QzuHeyPzJ0I1blo7robNSln4ukabbVSyTbJuzSOaHMK1x\n",
       "vV3sqDkBEM0WiZJ40ZN5tq04wWg9TRwQC1ASNCv/hMuAJXflIrH5qQUCJcYo1yrTZ92EY66ebQKa\n",
       "homPkjRUxvwSyBjlSf5/yN93HU0xiV5AeeEG7w2DCOcrxh6tHqfhF91HQbs1PwFK81+SUGrFGAmp\n",
       "EkvEMvNPU1BchlRklhT4KqY/TlG3cpfrTj5CbyGqOvE2EktZ4l8ccAT8BKX/zChEKDF/CtOsXinR\n",
       "QikyhLecdSGm204HDQ9/07T+AMn6iSHMz60X6vQNy9vXIUNTLmRGMuddcc8BQ2PqkyobEO5KPHE2\n",
       "PEvAaqJKJQYmj2FPnyPS607SLx0LiKRlxI33G31VeYAuT+l5VyQqqq46shxQXpiUxWDR88+sq/rk\n",
       "16JUspvwLiq7q3J0TSmdqtBcDwZLI8I6jYuUO83RXgTz5jvE4FOCwbZUHA7ElJekyzLrSyVzkY5B\n",
       "207cJhWptzRUzmuv20iMSbIGC0ThctP7X6sjMBTysGpCp62YuKFIeYWWBfaasxp6m07AYtIZPKgF\n",
       "YeosNgLSXTnA4/5PrxmPPZN8KAP4HUuxAwr4qAdQ6oYYm7cYVoNyae87FS0rCKDOBA91Tl0NVbH/\n",
       "2ohwyT9gWuJyq2jbCzOuMVBL84N7bZpQWnwdA6phGOZRb790JzVkLPphEwfF6UKoMEbTYyPPzXTU\n",
       "GP06FSlVOXZVfc2sSlq3FOQGeBBJkbv3Yxu505S3X+GxaZTzTQ+c9lvu9CPnDOkiMqAdkixeok8i\n",
       "lGMLFae76I5eEHbjMUlQgSUotLxIkq6ewQVit1GZe2svb0vC2Vg8C2RdYzWdh8rtNwIywN8nSvL7\n",
       "qNEUlunToH6MEwSVDz8qUhJT7fDzaRyJ6SCbdQj/uRlMBb/PPC2BxNiMuxtHk1cbzzJcGXonjLKX\n",
       "E+U5TirwoM8xriELghU2ZTmjwiWNhNsYMSq9j5LUSWcmWQAZv7MLfRYHQdnJdeNGTHtXnePd8gMo\n",
       "STzhew/0KE8VLjHwSl1PDOX7Ennqk9eAIeP7O/jAYH8XbBeU4tk4yNKPjDtIDcb2VYqLhVZ9M4lB\n",
       "oT2B6HfOOVWkd8K8PdkkhbmT8xpFVX1iSG+cFWhE8XNdEuNcfnUfzVGi2sAgllibV9CBJ1AAQwzE\n",
       "ReFHDopyHM3CMtlLa/kgEx+bMn42Rjwm/tNouen8j3s9jfzlUCyQ1kE68WQfF1sVupp0Rml4RTdp\n",
       "sIZILcyEx/NNrpP7a/T28fSZPU5F/XTsbuChP9fLk2Ng42aSio+2rqEarjPSzxnVZoDVTAKACC3k\n",
       "ne5sWxFqUQy3W9oWAwwndrL4HplvI8k841DHSg20c4q3id1PidlObkUdcThEuGK6IHLGYKOrCrNi\n",
       "6eGpQ8n1c7DHZAn2RPRySJH8KJlgPtytL3/MQH877k3tEuY7/Pz1UwAS9JFb+gVRWjLFdxwKkWsq\n",
       "GwrC2OQuKBq3fs5+yghvxAlz85UID7HcodZPRQGkWByJkdoG5AXmAVJzXOcxv6Yxx+HibA3o7VZw\n",
       "796iT5Rafvj6emg3jVzlIq6DNEhxGJYYTS0ij5U/SKDMzwOrMOGBE0SIgND8V8LHsxOi1LHVBRRR\n",
       "ztmibrVB38Ml3CNuYsum1W9rhdZ+PVtW3FJwGsuFMi/MH3aaLjmNfb/JYHW6HMNH73Ee+cFTQ076\n",
       "0dGn2gjagxG1YGe0dL+Vd3cKWojtUAxpY2Ab+qkeWgCpmy5htFkd/vJVjuSh4s0miJoQ5ygXNEUO\n",
       "S1hzwitEmNLEzxhyupYJzGyjyO1J4sAUpdJBCsOP8XprXRt8U7Zm4cd4fLJ2eriXhHNzGD5H5+fD\n",
       "y4bWyJFzF/k3C5BGgAfONkN0q6coYvZ1zs3ZIS/2NuX6Z9MhbTldXWz6VwQsqsWEGLJ2Jy0byQ1S\n",
       "/aQzCDf2j2BxnrPEJeVGMutAwowzMQVSdaPtcKobR4DutKkamWyGqRiIrx+Wxh+7JV8q1NZmgnKM\n",
       "rlZ7uQ44wqocgRV48q0/QHnNaxf5RpTJjhPFS0MCGwHbW7NohyliMUmgf/HvGR4XXaHkyKedWZSH\n",
       "I1mw3QYtITemNTBqpXKYNbXYYfxSyL25Df73Ij+lO1ZhlOc+OzXO9ewDMsWSPwv7Bh6QOXVTeENs\n",
       "KWyAMIdbWDNS4eQTi9SxUx0OmYGKN7CAtfRIOY8T1hnQzSrmZ0PncTK9KnrrrPMD9GKtfix+wa+r\n",
       "fFaITZ2gtY5iAJDQJxTI3GYu9lk/fDMfM5ltAcuRS5daxWyGFOxjpbvXU1Q7ntPxwdkExuSkVI+Y\n",
       "rw4S6y8jmfMe+2t8n9StlvWvwwkqxk9cBCCNSu0oEF+W1ffhkZWz07yDCwegyIKHIMtKpcJnIqHh\n",
       "uag0DcbMkbuI0vIYDGw3eidzb8LmXNekEMdvj+VjU4ukgRk7W2jT8zU27nkWuF8+Ln5+vTEg8Gtu\n",
       "Jdtk7WvxyzjzZjUFODmmuUl9cWGf9jwLz8i1bWgw1Dsu5SKP1SzoUUhnv3PO9AGhb8ID6u7xt3Nc\n",
       "pXV6dxQcKDXeu/WxbZ14//3pcTyDc1jfU5ffV+hlFJZ44cahE/WgZAfQqREyb7d1VqALRpzO3D66\n",
       "DucOIgfH+9HyJhDYpjmjTOIy7jkULpGnjeckQ/J4cvSMbKMT25nR9ZUbTb2KKryyYqy0W5d59lYI\n",
       "5YER7V5kzlgFXXy779c/PhTvhAWkapzACm6CVtClPYDD3D4vo751cIwiY3VT8RlUrwuyDajPg6K2\n",
       "jV/JJpC01Sms+Bcu3qn6Ly9GN8E/CUhFUkjIjbFE/fnt3//8tD3nBYb3fzFTLUzUEu8u1HfDNSXW\n",
       "1T+gAh3L98K9DmsKCHuvVPSbgu2mE4kMW7c00GDlDsDw5xn3MR2z5hTGJaRc4WMOKz1vT0/33IoH\n",
       "kOaNm3+120IuH4E2qgBsSuuzcB9QfS5BPlu9pt7M6SGn7qYCSWc7b/4klA+y65UhPa/fW5thIByh\n",
       "fnu5N4oOpn4LoaA5n9igclWH4lSKuMGkO37jnp1G43zzNO2KEOVR/HWRPFVwK/YL2kaklX9GJEz3\n",
       "Iv277+00G7FCO4a4uCAHxIlKJLDxjmbsYqEuuCDj3UvGXC3wZghXLoHesoKGwJT9N2coJ8iJymEO\n",
       "/6CbPcW9msE8w04HO7e1UmCwZn/QpILWiLk/Jfff/oJ1e5oPwLcj4Qyy65FTaS+r5sHWUmVni7nP\n",
       "dMXKmnIgLlq4zy1TZZyTbWKilM8AomEEUtl18WveezxBlOtEqm+zwMVtfsTtik/BAbjmjmDIJYko\n",
       "WEafqq8DLpmR1MFo5IHRse49GeXfRQW0Jh6TfChuM6WM/vQ9ZoWfYBS5wmeyPIm/bg93WnJHer2G\n",
       "c/+OnkDLkbh1pVnCJrrzQNk5Dqc9+aZUpwvx05Ogzd+Euiz5DzMR2LjCKnNkCD17KODTtFkXdL7X\n",
       "sZ6XK7yyv23llZus3FheDirt6ECoj7OgADlyGpZFnA+ro1RDmc4JBUXhmAMXor6Y0fPUU9JflGPq\n",
       "CBNZRtzn0sTVfC3pinVOPLnBDho0RZQnjAzsMa13py65YarBfnGayomxwXzELOlDHLYoMkcWI7FT\n",
       "E5O4XKTSTgAkKzPsgEhqsJMDALsHneN38ZAR2fmC58jxdqZw1hT6zbZME77cGTN5umSCdDclD4HZ\n",
       "eQ19vCrYLp+2DXP4l/DIKL/cJuAKpMCEBowKAJJAZ3L+51q/0QHTgaVp6pkWrBzXSvNoyUbq4f2i\n",
       "9m+6kXQzudRJQrVrWQcUHSdVoaVNdg+EVjzWRH5bdGlvZTw7QwDpefs5PLDAmZ+EuB2bJsP5JY6a\n",
       "mSyy/KTzaDvwxerxj2MOHMFDDdkzMSav1zJtmxLzXs+AiD+zEAw84LWSGeOn/zZpxq7ZIEwATg2G\n",
       "Bww7m1zB7VHyJM2UloV9X6Gb54TiMuRaPGlQ12R3WQ0beXRgU4L7Uo7ncwrpi+gRu/H4BTAS/rgH\n",
       "51db/3yUtQ3xJYhuIiq4bnnqnQfozbisHhi+0tCR4on5jTTrMa7/AkzC2buOUDtGcOlNYbxa0ULl\n",
       "2fDakhhRxRK+skkDSEBK4TmmWtX974p4+72ZMtY1pIpZDQGwfzpjkMy+DqXDDlZCgwu0awOVITsO\n",
       "pJCAvK/NmXvco7CiMGpM40alon+n+RVE3bFE68CsPmShM9XDZgBVXXQCYK77ctHlLEnIX4CHdc4L\n",
       "U08+BCGLDUKdhnQAoqye+SnppUtvCqj/W3nejCC3y8FvinMw0ndC4iDHNJMakY8S02pwwG7tP7pY\n",
       "pOQ+W3iE6/p3aSAxoXV2lkOt+NjHYPcWaBrDNqAQH05WroI4aRQnIbLe/tlx5SBtWX/yYPX/cV78\n",
       "jlGugZoABaGQ2CS9FYaj94WcMSZY72jqRB7M9AxaSuxJlqGFQEJjBkER2eaiawdQOLk0SF43s/3P\n",
       "OfxzdNGnhTQSVmTZMSoKayoyTgpGuPhOf4jOee6VsGkl0TgVgKakC3tBC/Kv7V8eTz872bSasNru\n",
       "ZtP8iF+hQryZSwcboqiviShHVCBH+8HJ/iIbX42kORC5TfqGs7fm1M/UhDVJAZSWsdjrsC7E+j+H\n",
       "EO1b6mvm/5jsh2NIfC0fXffu4Sn0fYhxTNxHQslcO3H/5osOd65pp84QhkSa8iYZu4jYmMBeAlit\n",
       "OJwlP6p351yoKengQK7DVPeX1x4hEbDGCBSREq/TRZA191+k6HJ4JwNoqTE9fNdZ8zBRf8lBqv6V\n",
       "qzf/aPcAJVq/l0hq0fnSG/DcMpyTn0+DGgiqXDZo0VTfAHvXdaJfx+ola30OqWUhpu9iCYBvtBEG\n",
       "OD0ETakoH3eQEUz7+YFwOSB61oLfRgtUuT4v1sOr6bQqb2HEdQx8iZBt++LzQqRjgJ5VBuKE+Hsv\n",
       "LzAkAwuXBgWVz4HQKLS817yDG+1wT1mVgPHgtJ35akbfpKWGwYaqaA+9yIjizjC7xIeP+8k+x7DT\n",
       "zm3EiV54qfrVEKijhC7S5FAoXuyRyXE6PFh2uwoSKHY/s1mO81qo+TmBeQEInLJ6+Bgb4FDR+f6v\n",
       "UnsVXbre3p1LvpwF1gmO0pHz2n6R3X7Wzkj27utdBSjQS26NBjpUjVvMTE7tMsyhk82b1FK9c0Yv\n",
       "UEPQO+4dQQByLpY9N95uQitP2gw9KOEjjxzGV5MgyEWRA4rgxG2q8xifxyur0HyImAWZjIW77cyp\n",
       "eXtCLJ8EogwEjP5ZU128X9wwQzgwZYb/hr3VVLgSBFCnqBB5D0fz2mf/NrWQRJjMVTbkHOLOLHy9\n",
       "h4SDlS5fzE6qdf3nJuBi7a2OymVTKxvDGTy2N9k7rkkkeMT69cb7LzkkykWD3y0UIclqZkjKUMvH\n",
       "Aqs4ymVa4/al2EF4sr7HLsJriAchjCnxlkZgpImMK+nN8ciiGOqXhdihgLf1syWS5kJx/z8i60d0\n",
       "iHLR76/w1/Uz7batvWzv9MIctcKZPRtltPDRkk+IbxW8KV9KhuKDO1yTzNsQXox5uBhJVB5E+P9Z\n",
       "EFmZXTSZNpSDuSEjFDTk+KccueiLCcQ3GXeB5n/BMdKNbpHZiVT78pFDm+rAk1cY2BXofQ0ttSPW\n",
       "XGoxs/suW+RyeFnNjj918lN4CgIktYm6YQSm4YptNYNZ4Z/zeQGs0H30mwh5Bduf37up4pwJ9DGs\n",
       "P+kZZeVJrzC/ZS1P/nuijjoQKNtMGZCvU8WqeeflScHFeCngejRNA7+VdbIQr+/gXfwM1XNJZmgR\n",
       "Fi6mnR7futEwQOCEM271wdFvDzy/wIL9gcJgQXarCKM4n83G+7v1JvlOwMycvsb3mbslT6xbBsMh\n",
       "UpFgERdcQ+/i7AWhkiA0BCK+0stg2O6KzC/yxL/QKQ+sS8WW4kc+nFQo1V1As5Eana40i+BO4P4N\n",
       "YO9+A1HptGFwap9RpnIJ3mka0L/RLWF7fPjErHaH4VzcCR6BRIbqeix2iaQDT14PxbBgZh4WR2PH\n",
       "/Bj6SHagLCgFgxfwlOuILCq4ops5hA2KgvDl58dMyPJgkXUp/zUpIkQgsuxy/zIMVX6lvkQU7hQO\n",
       "LDbfLvMUyAJJcC+Biiuudk1c1h7fWiuvLayH6m3gvferKMI8x7d055f5jYJV0vVjcOvt+BaDQQsk\n",
       "e7VfXxKQDeHWmrTmf3+nygHjSSKMEPxnwUbHr4MEbc/R18l5iqVb2X63YxbhhOFGyOfkoEtS8k+m\n",
       "11E4kKGZFE/6Wy6SWt9Q1eyN2C3AZ/uTIO9KMtFZdE1exVEorO+0eqyQJPck42S7nb2JL08BZiZt\n",
       "vHDLtD0xE43YFXxuCFgk3zI7ZaaxzZJ6aJsjn/5EG5c4TP1WUo6Y7AuqdaUkLTMer+HUQqXeBUgR\n",
       "edVNjirtpU9mQV9g4Aj9v+i6Y7AEnl61jVtWNtzT1SjtK8bS9+7pPrJPw9V5eg7w/j3dsaZZVC2e\n",
       "urZJSPVx/ZnOgGrsVFKiqnfuKMeAzNYW26opbx1Jzc/jVnpHJatR32k/Hxv2bAPojSwp4ayGn+he\n",
       "EW7baZI2N44ff1TLJH6saxu+Ps4YOU64JKe4Gh7KuoT/TnUojAQ+BHdIV7jPJocidlJTJPqzOvZe\n",
       "GHxhO7yN4efpXolswOpBqpQ/C8LUW9wpdIRWwXS321m1yMGiUJ+0iQGEj0OkXcZsy9g5OQJiG9rq\n",
       "A57S1WCqyNb3tlfdLkoW9u58CUvmHy4ZEETZ6wSkE3nR+0I0ETIK1BCeo1WM4neQ2qpi8gpHPdyZ\n",
       "b51RT7+nxSwvD5krHIefDvFa+9ynqj2ZGC0E0gndjExjVoGMJIr6L7jrci69sH2XXj/o+g8HV5Ms\n",
       "ShgOsCEhXiuwLYsH2mIclyzfv3ReqKw0O+HI437g4oC0d/dUBIVaY+rYnYovgOUgZP6gJEd4lSuv\n",
       "uOcZukOuR5kOJumgQu7dze4rg9l6+59MDJdjDA9CzocPTqbRSEF58ZKHtA0x4Q7nURfa2BTmmyb8\n",
       "EetSOGLOpERmkYJarRpxirdD9FR7MN3sdP4BAYuVm2n4rESmW+jODPmlVbYoGCYAMBOLInsQx6DH\n",
       "Zgde4WUvoESoMYwD7iahbvfOeoc4Jt3hDwyRNKpxEKxeVKO84irICHB6jm7pQztAN2QKWbA0XNF5\n",
       "4PJ5RNmBw9T89mvmzyie988WzIjYMunwmsnaGlD9iqCar/mcf67tAuyvgocTqfeUNeKgnmc3uo3x\n",
       "gbls8XqDcWb2oJyfzdw4PCK0DcPklLGkd6BJHvq0q7LI7LXVFAmbJD4hHdnWqsmW8cPGvrJXBUgB\n",
       "EiTptrgyllpGP61cfjFxx1d2XVjfiS6/ThkxvipiKoVQj36ws1bc5sfP1jtBs3/caumC4S/pa4N4\n",
       "QrGg/fOR72YLDdJImSMTsc8/RWa1KvG0uzjVa3LHy1vaRWkN0OvJf584+riWuuX2M96cImZ+xTXK\n",
       "sdtj20lzz9taF/w7a6OQrIEyy95dGXzhxO/QV9XoAIduXbXutjdXmhstjcoR/o5lQ3qLDd27aOiV\n",
       "t+w0SXQxAmQXXtWI47QdEAzbcXhiCip4LUZ2qzsK4KUxbigPh3nZu5FC4L0EpBZWn+jox7OLq7Fm\n",
       "9Y5k/F9tUWO5Fnxix5UF7NPWLfTIoGqcfgi5ZrfDlBVP7oKEfM/A6WY8jAlRgaJoijcNZ9GynwMk\n",
       "6aNpeHMjwuElNXFwFtPst5B7Dqk8gcke1jhAYdHPfhrkVkDIaCAGS6PjnwN5/tUP1mz/gGljPKHQ\n",
       "6VbrfR18dSlfGXUP7AMgu4SlD1a+3j+fpWMkiyEtxUkiWTos/zTsfyKktl6msYcwe9yNoo//HAdL\n",
       "C7lYBHsK+lBZp0noe3IkMJzwd+4tP8JCa/hfq+odYIUpO404ddvPpJNSIciFbdlDMlwfJ6Yhw3BE\n",
       "zBsU/rv976eHmvW8jGk3NBn2uQvTCz/HS86eTgRpPpv+g+p/GUEx9tBcpSX1jc/L9/up/4AoFKlx\n",
       "ZP3WPux5MP/u8Dwqs5AjIo4MFZNG/lJ6evIt04JjWl1ZbidPDcCjbZDNyHeUHfolfQdsojbMXRmz\n",
       "Lvzkci5sUABX6DSwMQoHDXtUBgUsMA4fgP6Q3jgm5IR7cC7lrjTEmC5uYW6jdCOz6sQs8Ndjpt9H\n",
       "xUyBOe4htronH+TgQrDUyyOB7UZKjV6zGVEgeAQYLJIOW7VmADH3az0NQE+CZZ5sS2aG2jEw9gCg\n",
       "iutfo2wF7tMG4sDe9PiEzwNSg82j7QNHnf7EfCF4L1VcReJj3VZGyDsK69UO1lhinI66XqZ05V/s\n",
       "zK8xKUC3BJWSnRXp54uhj9T4RIlJ1hwe2L1PMaOmpHO+QyGuSCEOKK7jPR4r7um9CcM7xOAQCA/P\n",
       "HShOvbbExQ/OCvnIDDpy0hGGrvJm53rO70j0+ILkQHxFJxYPlw5HWu82DkUMYeBIl20zUy8MXNzZ\n",
       "d9CfcwCeWWSlg6GSW1Z3tRn7FcX+6qY/2ZfhdwD1yTmfu8InCV0vNRgpbfKZtK/hyU0rznRAui8t\n",
       "sSZOcrFz0ArC1xXQh1uHlwqiOD++MEN5VGljigg4PqpLzXanFGUdNi6CLJ+MGPmR2JoQeNdNILlT\n",
       "DtZYiIDu6N5/IMpwmeUdBFPQ8RImEfu5bVVF77Iw/ZKKbZxCVrh2Twga5J2/FHd7ZJGzxQJ+eU73\n",
       "9wbpsEvO+fNBqjWb53btk+mryj1Ot4hrUY8VMN+hFAxF6hHreBhjTv+BuaCDGS8OMSQqEGa9C13c\n",
       "l3xqVDrc6Hy8Puslbx5O3IC0HTcYPSeVZEu6p34EwJ7nbPFFh3LtIEGyiOYFONJ5quSMIhg0Pi93\n",
       "gMolyTtO1cTXbL4kEeA02Pr4PDYprFXKzEebBrcBIcQ+l5ZTOPqzZkCSqoMGJX2vu30RLO3qsW10\n",
       "OV+Lfc7sM23uABTnJr3ISWvs+Ht4lPIaafgoD38CmkQMICOKu1XE/qjoGy2O+FFnFX1I4EsWdt2A\n",
       "Gq1peKRMUp8ktcwXjf2Jtvxeohbu79+5Ypc9p8UtcyiNVAu55AJYZ3DC8ZdDsajykprSO0Tg3AgZ\n",
       "uzjDk0zds1qUmUXvxsAq4mHKS8zoGcsR6gs7vNx13hM5lkGEZBynzx/RLxdQ0Onkh94QLf/b+2Lu\n",
       "K0AJvCdx4ZOgtQqnwnGmulDJx8SDkSaWrf0DLUHRSUD/34RzvCMeVoyJqYsKh8q5WcOm5Gv2jLcJ\n",
       "Le0P//8T/uT0Xd/Kex7/IZ+YQgYhz+cvgV3hUoePP8HRYiFofesm2EODL4oUbsYx1u+PHC1udeRh\n",
       "ri2irPfEIIiRKGTaSd75wBP/1mDInoCndOvM/jZFgsC//1GlhVHjiRo+5h2pCVlkPNvvHAgGG98K\n",
       "tTg+KHHh7fT5uBU2sxtRz273pxmmeVWOtaAbhy6Gp4B+bXv4+WH8tjRy5tyUe+fA+i0AgCJroLL7\n",
       "hXyOq/NAoudIrhUf/qjGkzR6iZsL1Od9q8nvGBCIoGTcbh1QA14KKVvlnyA1PpAPo1WEPGLoKl4y\n",
       "M31ISRhnRELfYfc9k8wWFYeMp/0VJ5nt1M9xZ70BzQuACKbE0LI7j4ydtTONLNAg0I+/y0O9tzm/\n",
       "bbBGnHRJOwxLJaVSAXIKTIbiqAIwzaYp22UXtzfYaH0DxVwPFStowPhIHP2XS6irzdPBSJduStQl\n",
       "XZ2VUs1qjQfi3EBt0QGmlplpwn1mE/h+RKy9G9n6T+qbNa6m8Z6eP6Ii1TIuA7OffJXsABabn9rQ\n",
       "Q7+j6kb3Y4peCqAf5aP/0SA7PSj6ORUFyeKpTtbtteG1r4mKS8KTQy394qeg2HetTon5T0NCVe9/\n",
       "hD7iHYReZnN1ugP6XBp3LOjSVCpC/elAjfw/WVszQhcXQCByfEjj1Q3YiZcucRkYmPJ2Jqd/aIPo\n",
       "uQLoJ6a7CXrUxrwu2bjuQOMTvj6dsFgEOVSeLdS/6+wLH43GvBTVvxZXvI3xQzxPT4z4vsdZaDZf\n",
       "mbYmsZiVqIvkZUNXSAmrbIP9eJGvKaHEhLZO2xY9N6/KjfZRKiJj+pYpUfxZHfnl1Xz5WyeGDty6\n",
       "+MUnA0HSbGUh7gTwoSciprNYijDd3+9I/lQUsiMAF8XKaoJEbm+1BPg9Xh0Ghad9+eG+TNoWWPh6\n",
       "G3XLy5aQolL+Y1MU/OguyXazEzgoYUpP4LnoPyokRNJv/XD070+qUbSYHZ8WL4Gmvq9VHp9SIiO4\n",
       "6vIuujqzQN0lYtIqlG4veQPZsy1CJFMUCRXCg/x+OH658Eut6r2dJ8QNQGL4i4n1HJk7YWpbuGo3\n",
       "WV+KqFtUxaMs2J+/i3rRhqE4n8Tyf7YpAcVc9pNlHvPyPdtZfOBWz1RZkhL6N4ibZScgn8eNhEsw\n",
       "PwtmI7FiZl+kTFkGQVEVGk8Vd2nXrPiQgFg8CYhQikUEg56VVmyvmDzy3BSLkzc+skEPzCiGA0lC\n",
       "6BcGelhMnVPYwqon6bYHJRBlHdUn749bar/IkJ1JFWIiaH3pWSIsLv2PP1XvVWVKNxTtAKt3HegS\n",
       "LiYYi8KfuQLGWMmTnSXP2Ah9TKsN649hOl03k0I2v1LN33OcxRZeZyfmJkPGBnqWIOzfaIYB2R8E\n",
       "LMRAYdPUkZlDYNKxrlCdjgly9ETs9R0wW083gwMeHeynNSyi5eu3w9kSezur7e/lmgutfFCRr6vN\n",
       "A6PqOCrz6DOX5aSTTfOgnJZqe2v39SABmBJr9FW6B368fNTy0mE7cbTornS5WV8V/Gryl4T5sJR1\n",
       "aly/7zY8oCqZvzxc8yiNsVkZHkW6xiQ7b/xNGjQsM0HlLAIHbyOAt12LYEEa+Ymo+0XwEtVM2NqS\n",
       "GahspEOWcM0kiW5j2UACuSHnNNN4+6rBBvLTrCpbHWHeJCnhQTVe12Ik/pLnmfuVajCe1fjGt+z+\n",
       "17vSa6tgWAY08+ulyJy+rbdS5KQM5XJdLhmVepZ3PYZ7RG02IgTlkdpgpZqxtfe1t1D/Kr2PXaEG\n",
       "qQ2UlGzwzm7fzyq5XfbPx7iaBOpbX1P/C0BZfhVDxMmU1WuUVCNPgu2tyc560k84n34YAVxvUUbI\n",
       "dvK0l4oBhc20thf27zzYm4Ol3EevAPRhgmPmNAbro9SdY5G9LK5wGuCfI0e/B1delhNSKkAVf6JJ\n",
       "iZpNuIs9N7UIOT8AMnV9w0ZZfLm3mHYRLuqccYJO1SuKoMgq52+d+GOcz0vMGAUmcAhS/BIl9g/j\n",
       "TgNfRxWSMbykre2yO76ORxGGxy2Mrr2dBzKnSsWLhrdyF4XNmQdKYUOdr9KxW4VRVlcLGTnrlxoi\n",
       "sjyJk27gBg5zjdWIrbIu4x6bSbnlbSW84q4EHl4uBXfnygjzFAjVQXD6GBGNsZuYUUqf5YoopIsf\n",
       "8F9i6d+gCtHN9rJAGLBrvHrwR7k1VQ5nf9KG9PlaKIME5Eeo0DOqVHjv2xXjKfdyL1Z0hcJzUdif\n",
       "xdalg/3ab1qkX9LZFd8lomJ4m9d1G7lONKrhlaH/8mVzaPQ2WoMDKrlN5K4Fzb/ZsCPH10E4fPlO\n",
       "sfY7sl+cVJtCPYmf58wv2lxkygZP8ZMp34Fx0nzaB6VFOGPsmV5jlxsCcmQMavqhLIoi7RvsynZA\n",
       "ezVGxSOkfdbScbF/RFLoFgWRg55CvW3uqFUsMOJEMrzlKLPpsnZrWnkDt05Lz+NJGWLXJ4yIiI+m\n",
       "QSp2CWTqkYdpdrF7Uwq9fuvw/mM5e+mDhhNXCEPFg/n5tPKBLwfg0iFa7qtRRKYIDdDCKl3F4YgC\n",
       "P52ButVCSWQxf75+tkYPLe483TuDCL1Tu5/QY2SxTej/op3iFQTLeLWUBYnU1PpdA3hQgbaZxw70\n",
       "SNa5aQUR+SZf0Pcf4vws7tT26nBG1OGRwTy7TXKj+/Rxdmmi1eRI8vEc996qNuX6EMAH2a7IO3Dc\n",
       "1NSr2HYeZscQqIdO1ZWJoT7cICheyuNqVhLFvGT6mXNJMQefEfxv3ijI5rmW8qhdpXodiBtle33k\n",
       "4EhIheTwRLTI6yR4arwJUz6QhM6HKvVQpw4qo7JOEGKJ8lqi7jbmpugasMDkSKJQz/6wM+V8P7br\n",
       "VIbq1ZNT9ZFXkwHl2NCf9T8eLj9eDhj0lBpXTpqeGaoRqUC7fbbv4noYzbYPTwrHczXHJk7G8TKc\n",
       "+L1DZwtkIjjeRCHCLXgAI6A8RQ2LjZgw6nJIbJkQCkaD8aJDqIYKEk4xwXOVxBF+nelu8gBKPllY\n",
       "cDUZW1QOPMSC9Pr5Xjiag1/pYET3BvdAT/AAl7wNE6uLnO6OwyVqOWXm+GrhQp6FvceGUH/zB3M9\n",
       "MiZC6nZRWUDSVh8gIjIO+LxuGUt2at07svOvHxSaMHz6j1ENCQ5lDw5Dh3zq9dFWI6YzguEcV2FT\n",
       "nKdwroQgpTrqQYHyw4u/+tNe5be+521GdRCgtnl5qnKeM8lR/g/zjpFrXzM8mHtivbxWmNqKpmnU\n",
       "a61WXdlRGO0ztcyw3LxXYz677CiQ0RI4vUHhrsXAfeWL5HiJNK6A9R2gUA4lvO62CU8V7uKUq6fY\n",
       "5s6/p8UQo1rBB3gG6aoD0qhNEYiyx4m55j8tvm3NCEUIFVvUkypBHPNvSoh6wPqNpqLTFpe7HHSd\n",
       "ZRiIk+3eFEhoozycltGdgbPia2S24G5RU/lkDIh440NWhGwGCVvU9eLDZr2nUcEs0f26SXSq2pvx\n",
       "6G53u2Ty5O997je6iJPhISSBBkG2ox/S5UCbyiyv7yCLH2ZKDZhMLTbVFCf4/oDIlxOU67v+n/YR\n",
       "xH5Jahs+GI1gu8U/BT9g4UmNdMYA3NuNuWmFMzCnEUvvcrzmkB+dEMoli3V/UkGuCitODoFN7ATN\n",
       "iflvqmyb3PI3IXKhU3WoFopVzwt/N8NftQY0SSeV9GqkizOVqpDDUcJegRZYG13E/w+q1YoBij6W\n",
       "8XdFtHGXVAH4zQLIt1tk5s8o/iji2fUHDhL1axwWewRw0iWTv9jB1p571k6SJ99R1U1yizj7ac5W\n",
       "17zVVNuBxwZLibOHCgkburKiER1Lhge5LvqnVNb+ezWuLV7vQNVa060mil7oAk6lUrm9AKHdTi6s\n",
       "ROvYUF74HskakJXjlZGhwZdUiRcJUpD1YhSHT+oCvmWLZtdhrisZtLpseYLCiaQ2/Bt56lbujKa3\n",
       "8GeML2o/kaO5RqTo9b04MHasSm6BP/ebRNt5sGGAgcRqvEMIa331CAqrt4HGkIlfNRKB4AlDB7jB\n",
       "f8i5LokjW3zWGiFGv4PQDnD/OElOmMfo4GK0cdGPBa6cR0NrB8lGDYAnSfevo1fJq9zTKGXjD2+o\n",
       "iS0H86/zAoXRkLh8nmCkBpogrnaK74kAfgeg94jf3sbYeqnH61wgJ+YuntykdEac/+4Mqyk0koen\n",
       "KT846URBaYISPUZGVDlZb6UxgmbYUs8+LrXK0x6r9MkEZTbggcer5ImEB1Ru8N6yI03JGIRVkKbN\n",
       "Y3cjPyKTHsfv04CYa1BdHp7ABtI8c+dV/qeOKHHP6YKf2T4ZC6MvX4wC5o49Cgo9E1tGF8KaLlH5\n",
       "nK/8iuV29iRoJQEroGB/xW3z06A+7G2gPLUFun+mxLw0ZkHeBcEUWiZOZjSAn0j0O0dmd7vn/ZMD\n",
       "conUfHBRukeqVGLUojw/xUHkagkAI/lEDazeoY6DNIQ7qBnWAdVy0OneeByQf93SkOttq1pWrwBf\n",
       "XwF1oin/VuTjWIYJzT5vbZ8KVWkaaiLWHoEaIQHUy1LOfuCBSdfj6HJUxYWAIoJoKlYWaJhQlWGb\n",
       "/WdzR0iEw48b2rR/kyoDHR5bWW5EfeX9HaDeYJAsVvEaWP15e97iKemh7EaSOwlrW/7JbYqo6Ggz\n",
       "LukJzWKZRehfDyhDGbQM17XRqmmzr7aIMaa+ABcj4/InVYkKJKFjCCqrRpw+qylI/mTAfIyhGsf+\n",
       "IaXD2qfE9QQQjaee2xLi+tbuDQ8dLq2+Huuv4rCMHxVdF7kuzmodlcmbzTcfYzIMs6uv5YTjF4oM\n",
       "/c66gYNYNQyjSPz0Ceo8twpPFVPTadGrpXPQcGZDV79DPTX+K3495AAfpHMrdx6QE6/H8WcFt/ex\n",
       "nLXNUpwajE/OFgc958tIaQJrIZSZPpYKIYtQZD6IM2YNb1ynfkNR5bRI5V6w7/PFlXmo/noHOwOT\n",
       "qNtSN+rXPXTNXM3iP76BOZM3yGY+zQVf8K1QsVisYVdfyEqq2u6HmvkL8wpHbOCJw0FaVbNVWM+a\n",
       "69zOwC7rG9SKUIHeK5m07o6rA6W2A5zCA+keWiFNu4QLtnDr2D9EL5xAdi2KrfEYxl+cHmOTCrSb\n",
       "CnWnm/8coC90SPCe4/EMJrKNgjaVT2EYvGgOQE5/IUBxRIwIWgiJ+cR3nlVV1V4u3+eCYrI5SSZD\n",
       "eWxp/tz6RnM5KEr8ZjRY12UTQIf5zhJ7Nn6e97SdBOO4yVPXns1fEquLdVjpjxZNeopg9veUCZib\n",
       "HAqLpO4NnPvoIiH85gVnhJVkLahzqvuv+L1PCJsjfisqICR/+nq4LJSMDqXvchlnXoKKuqn1eoCZ\n",
       "9fi5aiLXItHMGyxQU9QUI2gkFLUqp8JShn3ZgBrHLNJKdF6bkhHPadIY8ryI+f2G34WZ+7hy8Fw4\n",
       "BkP3Yn05OtHpfJwQW1IUVU8B2lGlcPazc0rKXgP3mompxiq+ERrx+HtnP5QuVS5La1iji0V40u5t\n",
       "5ENZrKXcmg/ADa8vMk2MhtVUaSkKwuvAJlHpr8dpVinS9bv2viSQjMybaDdxorQOILKVeMFiG/Wy\n",
       "lygKYNvvwME9GeKm17UizUCN4wRME1a/LYnquh+xQ0uGV/4Fx22UC8WUPjmxKUoO4TAsXufKeHhU\n",
       "Ve4759Ptpt+ERZPcBbyV7K3i3jfYeBKKF/nDHH19NZeZwztWDUsof1G0br46YL2apVBmTqtL0AIV\n",
       "VYpDLBzixujH4pl2hGTbEBxuV0LGW/PnFCQwFlZFrp2PC705xKEknW3gCURCiQkTOopIy1V3+RhM\n",
       "W+i1X7x8IC0IMqX85JUB9WTf4A3RWjwxHGSPugwIqJeWOQ5SQNmY9ZSMfApHiA4XV1oO1GQI4SCJ\n",
       "YLgDmaTvZGejN0HFUi3hee3PUhLGRAUb92k4dOmyG/gnX8Ea+PmgSYHDnDiBBzFeFboPc2scI0ET\n",
       "FPW7vDTquJwmNjPyAR+ABHj4ZpwAAoM/aPwQzinpMW+zi6mxB/5zQSWQUyrIOM/d79TLurbMfVnm\n",
       "4Fa5wPVZhrFs5GzUV5KHdqHGUd09cM2Unc5t0MqJxq9gbGpdH5WhIZbkMYsrKn5f8MktEXFoJZWn\n",
       "kMWGFPDGS+dzAgnZdQDsIgi2AYAZCSxQCznGefn8lx6scuqRYVVBr4AAGsVooMZpG/ffYFou9R+x\n",
       "vype4XBxaXi1ltmEPOcbPjFb91HlbANrAzsFw3ZvE2mWb8+6JR1MHEpcX/VdoTgQkKX6+Ferj3pa\n",
       "Yj/Jk9CnOFLLUj5hSToPBfuH8+Scj1imJzascodjkbrreBQYwQ4CVRaS7f1z2c2RnDfQncs4b2s9\n",
       "7h+eJx7CL04klMH7PvvHlRl5iBeLFxnpxYiVjs/0t/hANMYTlP4LBzQSXf07ePxYoHpjK7tRC4Nc\n",
       "cYpsnoguw0aOH7/BPGM3y117tdKO3ducBOhyUctPdrGKlkVP6OkSVwcusIaRa1gahxGCUzv6JWWV\n",
       "FxgqfhbpsPitE9k04REqt55NvMUYq8aZyOHTenNCuGGW6/NIOEpq0tLxuxkWceNGITuz8I8sbIMk\n",
       "IgL4QIAcuJ6lfUgK8worAyHCgyQoOodfYECuNxeCu4BJ5Tr2qp/mRTodkv0dyQQ6FMVmOFkPt2ap\n",
       "r6anKcdX2Y4qEpoJXmvjMFDdgUzZQBAqbOFb4Mf0Nm+YUdO7txN3Z54AWajNibGnf8nTx2bQQi8N\n",
       "mLjaJX3VHYZtBw2JWf6Hd/6VQjOAIpTHGB5ww9arBqrZTKoLvn6dauJvT8r4eove1ma9h8H+YgGX\n",
       "B6Dg8DrwdKOJ0emch/iZyAnE1sOubGchyfK6o5HctAs9eBvqy1+hYXMaSl/zKZCCBZwk6VNmVFE3\n",
       "lcNsoLDrMGwohu/s/OMUO484o2j0wfarL64QfvzXRG08/NMTT5T2ImTfrrASVko3ppFMgBlSltyQ\n",
       "y7IP5ZDxnNOsxzJcnTUN8SVhSsE2DK/7qFlPJ/i3t10xGlkFfs/piO4g480qbp8zqAdQwCwKaPzF\n",
       "cy7KYSNHQ0qvCD8TULha8E3mpb4BM0w9e6AD7ucpmorYyqH0cP201MT14cRMO8iPBKntjRy9pzb+\n",
       "9gGQeMPf3xdpdLp6fUulohTJtSlH7i2dNmanB5tZKCSD06Or/p1Y1Ty2Ln+5mK9FMSuhnwFBQmvM\n",
       "008tnKMcHOLWhDqkwMyRjib4oDDcdPHgPZgQwbytuaHM06V4y12axp7war+t2Qytsf/kP6si7A5N\n",
       "x9H58CfjqE/t29Nma0tzf/vG8pumIG1iE1UAqoiT7PQQ3GzhV6aZH1nyLhVRCYXC5FEPltQdcKFH\n",
       "N4ffmiadm86M02afmS8qQe88XnPpS63qSZEPDVu+ShkA3yj12rIJ6UGjF8Z7sjCMtoalA9iZRoSK\n",
       "fLz04OQMrGvZE/KmBMClJEQkfD2oR6HsyFp/x2bE5T3+7c0rcfYsiQ7ZQEWWAYJlPXt5B7q3ZL0U\n",
       "Ng1MI1lxJFu/jfVoXq8XOD9C8MwCVujzM13w0ETzBQIk+8oVa+DMNDptBo65GOfdJ1ZpnttR2K6a\n",
       "AVwjnqT0T4Co3T6m80FxlYep4M/vK/F3/7kln47PUBQ9UoLyITth/HVLLU7IuntcbYqAcGazOqDP\n",
       "Bpycvvz4xBpnUosiqv5+73Q3kth0njV6Ugo2eC2smFYg1EXpFCw35Y70ns1Oit9RMAjnd9o/T1oq\n",
       "LF+viEJ3Xt7mHK3I45Btdkl+1iAdfgCKEyx4ZQWNklKnWE9uVZxGZKcQ3Z1cz5hecq5QG3VXZVpy\n",
       "lBgHKv+nIG/ndbdgIBp+AjBr13HDgXqV4kgawuwlwBflf/lKSidDJc7/fZ0DiJURQPV+f7/w7aAx\n",
       "HSHnis9+84LdvRxgc6z+LPHFS52yfe3xtoyUyw81jV+fyCkpjVfE9DlptsRSOmjE4T0AfFpt8pRd\n",
       "JbOiMfw3++3za38gNCKQuhCekM/6xzF6bX/AfLi87KbwdS0wLz3C2b05KjeQP8UascbRF5aCDoCK\n",
       "/djY19PD0nXZ1xQ16hlOfe848HEk0nJoDu/jbG4SX5FQVPjFuBLzmuFN9zNWfQ+BfQKwGJKVElcP\n",
       "U6zYVdDiXNYwcGTrpeyWW15wwbWgfUu9/T8W+P39+kfxgdO5HYg0oJE0TM9pDm2F8ktY8NPvMjFr\n",
       "hXfT6aUNLm0grvGDdaEz0xfo3AZanHRWXknPwGqn8cDZ8aRgEDf1zf35zseeYeUCb3IZ/6TI6G4D\n",
       "k4VWVPQMm16M+XigeK5hYT/tYRH3BQ33QZoO7ghOF4X2nu3cgUhJIWox0H+B+YqTWJpY5a31Utsq\n",
       "UPGM9u1BZqeju1pyJOTnz9yeL/4w0YOZT5xgGohPHyFaBz2EYlH+bqADAgn9qzXsvWoBn+uYUDop\n",
       "vZy+ul514AAb4P5fh0sHq1oy0nuFAYEB31aOeDYtRxhca7P4hH4OJHfqxvfbjvSLyyPI3Lghkyqf\n",
       "/0PfR4A23ur7PxzTLuyFaqalfIYNyU45UgLlKtHA+ggHjJNM/UMP8+IE37rKXhQw1eT4M/pV/9RK\n",
       "+j3hSYreOUtX25phyOqLIOLAmgkVM9J0HCAvba77HsSErDWtvUsDGQPuHyiIzsr+NZcV+vaBhg4q\n",
       "wsuHOVQbFmkgcV0MwFd3PhhvjnXVN9QR6JWBOuzYIDRQGrvueNjJOSMk05xuXsuQmJi8o4WdcrLm\n",
       "kesV84i53lekAOFsr2E6XeYx5WkjY32e99KNp3U6Y33jKTjzP3UmPXj3fyLLWTh3y/fhJEhBkF7o\n",
       "z+ud6kihtDYN64VgmGybV5hDFsg3X+87frBJeX5yE65aHK+grC3Nvt4dYGLtSStag1ytYljOgTbu\n",
       "Dx4CSDjF1NxfEXdx7KOOCedJu0GpOSAsh/wMhk6rtmYDP6h8/UvMVW9x7WsbGjRn3g6qU3nptLTl\n",
       "JeIXj22F3iGCT+BnZgNX/vufGPUf7dBNvSRXL6sndtZudoOOzBjlzoZfaw+WAIqLobARrgfiA1fz\n",
       "fTlMNIWZHrxgW8Qe0/FKJ1oTsO9bQcVYih3hSXrfedYo/u8fSgvss49HOteLvlnDTAVOSC+ZSZBk\n",
       "eolpFGve387Po+gZiKAPa/Q9EB1Myx/cHhPEUgejt0dBpt4/Ra0l6OxHiRNX8h0U140QplLEiuCE\n",
       "ogcnp8qHYCw01JX9NVDFhhOF203tqyuuGPgFp0P/FrWovnC0/+UMAAJSKxdFpP1vemblhSvr1a68\n",
       "h6LNX1tnmMkVysbvBVWGX8OtxUgwHLfh4Z+8Cwf7fvq0PcZZ/MRQfW364032vFoLIvQwIuAi27z/\n",
       "8Vth+Bi8O1xe1VTnCfckqZ2pY9VDGGR75yGxVBOuU3+fEXNuOFbSMKAvQ2+xrtF8YHea8NWaeQxD\n",
       "xb2qfXUxLQC6grfWkCy4S/vJSIOjpQZYOJs1dN7jUt2hm9rNO0ePAKKLjPDDkBa07rCcbis1vNMf\n",
       "PWw5rlzk2SV8goGUKgZCpV18hEke7vbaGIy51K8vNPFdDEEOkn58Rvh12jucfHQUmaLfSVSTl9Un\n",
       "RQEYyICOT7aN0JrPBNwQMj5lDxEglWjiuS/yHAlm6DZvdfmqdq1Z2j+aIoXYwFMdp2FQaGcjkcOj\n",
       "MZr2bBGFYULVM5rf0CdYuwEuFIM14jZddaUUM7+9vn/7ZxK4ARSVs/i11GNeRBJZdq+uCHDYqRrM\n",
       "aEGHuj9fYc51L+YArhivO8Cx27X7xgfQvFxLrp1+d498nOpOiwxwzX1cBnuuov1M891Msn7ZWQZy\n",
       "orS7hMY0jfKOfFyHLSLgeSDMnSA7CdgbXszLfZnwYpm5gg7iMImUjioXo8V+en8FTSZ9Nh/7ajOo\n",
       "glKjGoUJYXJDrxLQ21/A4HGorhY4uXhhJ2JCXHRPXWD22DShI+xILBPOsVzwQBLcLecs0XDXbbPn\n",
       "DXPKl3LZyX4QJyqe9wsYIOGupJfpzGnpCMMSxn0O8fz+z67yhoS/JWIPDCDlVlQ8bUGZIVvDKuiI\n",
       "0SceF20jgn8z0keuv8FSR2HYRauE5JK3hr2wURsht0+gQIfLn/EphYpqdNb3wsWibZcIPlK0yFAZ\n",
       "ALPIE+kVO/GLf2tEX9qlaq41H/PUWlkQW7euTTRjhrjDgK+1wUyQN8Ic2vKluZYjs91/mEqxFgfg\n",
       "v7BRqonGb0x7tUx7w9LJyU3OmFd8+XT9Tf7lf1k9u+ziIySC2xBOfsAKgdokkzljqQdyLGmaTOOM\n",
       "M7Dw5xqtoETPkwXhsG0HFPdbF4AgDEUqRqmfday6kEhZuLcCQo1SoSDpAIGOo97QYhmUn+HpTvKu\n",
       "j/kljBPxtc3TuUQSlZRM4OheF9UyH+NqBU86qGl5fPeJk//lUOSWfEcqyLxnbXX2hG5UnmEWRWP6\n",
       "jJ83eXlcTnA8FV0ATe3+zCGmqKmpKofCoGwYdQY4//W4ck2Jjatbv9BSADCPlDq+PKvK89GeZGhQ\n",
       "EUVaWYNwQVO4ML3MCZ208iq5CAOG8OAcF26cmdCrG+j9gv8YTejAr6+8tBDFDp8oj13rBKgjH35O\n",
       "LZqHxOtZTakcZD1O8+F2bTu1PzCTo1h7RvVNUvZaWgSg+2zcdyy8GexCbQ8BVaucKLI1v8aFuVcz\n",
       "pk3xuFO3dZRqnn71MOSRFfCQRuLPkFknNltEcoGzO1IIycnhrzMiOT7zD/HmuzcWKh4cNhIIF3wR\n",
       "DOaM0PP5AWJf5FD7dhO2fbW854i1YvUkA/3/nXIiDp+fFsqx9jY0gd3Jub+7p4XG4M6xKfEL9vAy\n",
       "Gv/51YVke6nKcyb4Uka8KDS1vhn4yAiwJMKvb+Vrt+LCViQflvbFpxj7P+WpdTa+tIwIaiKx/7I7\n",
       "fyoKJNZv7hhxNVm7cs+4xeq35L/hbg84BuYjj8rdqhxOcmRAgna9zw5OmKwurHyHjnA0E0rEkO5k\n",
       "hXbP6pqJIZCVvr+EgXfJnIv6DVtSMUOqyq+qpwq5s/P8ptri0hNCzKTP2a5SSTj1ArZCrN0bAqVc\n",
       "7UOL5cBM4KV9qr1zeoa2nnW3M8ZE8oBmdIMSEltCNL4ceSvVJc/NLoRewECyu5CaCf/hoIcswtmY\n",
       "tDb+rngN1VJeLrXDSk0M6c3rR2jM9JBGx8O97DIRcaUdDXpXv9Udl+4/u9qMHUi7LOy5S+oXGmml\n",
       "xqxPrbZJ/N7LZ1hAwKdnh3tWQtHHyiVRurBRthlsxjEDIA0WxIlDMJfijWVSUWhVkiayv1WCvsLh\n",
       "NEVibQfbvUEYDd+yP3auOujqUTl72ssfIIAmXTwNpKjMe4LJbdzXYE+BZJEXnR+H6es/hu/DctDm\n",
       "7qKMixbYS/Yhx4a+jMZiALDtUuTkvc7WwQ9XZ5wShLFyzt45ktX+DSBZy31k9zt859yGHEiMsoRB\n",
       "z2lBSRHISj40ToF+I30VnLwvs6nN3QOJv6/EJzaF1tpnd8DVgQAAAvZBmiRsQU/+1oywB3N/NACP\n",
       "twOcK4zVXz6JF7M5QQ/K1ggl1whixSwfoJ/abc3fuFLeHIL9vYvDl4/eNgOqFZPD848ll0/KP2Ll\n",
       "ztwKx6xKyL7dlvpqCEZN9D9wBGPx+XHTqE2m+4g2Faz3p03oxFxufLwBZx7zQUhvyYxTOqs9jchX\n",
       "g359BJJQUU8aYfB1m/gidRZh+Ld0cb83Fr2fBPFxWe8WfDgrt2tx0fmmeDGGF8RV8oh14SmzxQxf\n",
       "0nKdTU5l/iVIuyhjvTFFDcjYZBOKVXLOS2Mc0rivRmVd0khEbWedD6I9IQ4e/LcguR90xXc/xM10\n",
       "PEKuedNEY0wKhpv4jCso2nA3qw89DivxymUUtSHHdiq7u7tdP+KgY4Hq4UNsp9uOxM/fs0FhioTR\n",
       "B/u7k6vGJ8ZyIwiIBYHDKf+g6UjESvMJUP7W9h9hPL2SvD8PRtMkl3iwB+Mp3mKS5ICvcsH5IFaK\n",
       "bPiIrJCR11w4pwt0bwIXAwkQirrDkbuNgv5cHYcO5e+WsJLQsWOi5JZiKsJfAdz1eEm17URBvF7P\n",
       "0eJcOtylh2QclexHcir76K7vHZHlfHJARqDA8QF2P0D4HNQ4l4yER1lOcLKaMEb9N3J8naf8PJSZ\n",
       "q85t8/X04w0ozyc7nHEzyExSwcoWhLG7bIESqxzI0cjl0ceV0rpVDBm+fQk7JQ7GSMFy0iJzLKcC\n",
       "7NQxfNbBrZAxtcDLropgRq3bfp5xLSPIpi7kZ6mjvKcY5jpwiCSk02FXC3NSN0o0BT0vX3QjTPPh\n",
       "KGVoeiZcS1hNY0jQdbJZhJFyicRjGcYCZvRM5+HJVOfHwE45tLWjEWbpcfRe77KhM9ZDS90uw8zp\n",
       "7OeoOlDkKyHmlf1NMexNKiNHFkljxG6NgZ2q4N02v/qxkr0aD0E9VhQmx+eAk5QvB4VwYj4SqPyv\n",
       "Z+7yuZBcBcwz4htkksFvVRnSKA9Tm2q0IsFGO5mCctfaEjQjq9n2CeD4TwioKfoYsJUU4Oo68diy\n",
       "gAAAADxBnkJ4gh8AHunuFFHAvJpIZmjdYgeIsESzVMcZC3nyTYzQ7ymHnd4AesoANH9dQv0M0DFx\n",
       "OuEtmONhZN0AAAA+AZ5hdEP/AETXLvsews7xmj9l1wvNNJFC3fCIXISTscy9Tij/HA12M6qjtz87\n",
       "5EJqfMSxuTLZ0QfD++21xYAAAAAMAZ5jakP/AAADAFbBAAAAKkGaaEmoQWiZTAgp//7WjLAAZSzP\n",
       "hCyeRbYz+GQAHAYj+hS/Fb7Wfg4RoQAAAA5BnoZFESwQ/wAAAwAm4QAAAAwBnqV0Q/8AAAMAVsEA\n",
       "AAAMAZ6nakP/AAADAFbAAAAAG0GarEmoQWyZTAgn//61KoAADAbR8AA2xJY5YAAAAA5BnspFFSwQ\n",
       "/wAAAwAm4QAAAAwBnul0Q/8AAAMAVsAAAAAMAZ7rakP/AAADAFbAAAAAFEGa8EmoQWyZTAgn//61\n",
       "KoAAAB6xAAAADkGfDkUVLBD/AAADACbhAAAADAGfLXRD/wAAAwBWwQAAAAwBny9qQ/8AAAMAVsAA\n",
       "AAAUQZs0SahBbJlMCCf//rUqgAAAHrAAAAAOQZ9SRRUsEP8AAAMAJuEAAAAMAZ9xdEP/AAADAFbA\n",
       "AAAADAGfc2pD/wAAAwBWwAAAABRBm3hJqEFsmUwIJf/+tSqAAAAesQAAAA5Bn5ZFFSwQ/wAAAwAm\n",
       "4AAAAAwBn7V0Q/8AAAMAVsEAAAAMAZ+3akP/AAADAFbBAAAAFUGbvEmoQWyZTAgh//6qVQAAAwA9\n",
       "YAAAAA5Bn9pFFSwQ/wAAAwAm4QAAAAwBn/l0Q/8AAAMAVsAAAAAMAZ/7akP/AAADAFbBAAAAFUGb\n",
       "/UmoQWyZTAh///6plgAAAwDwgQAABJZtb292AAAAbG12aGQAAAAAAAAAAAAAAAAAAAPoAAAXcAAB\n",
       "AAABAAAAAAAAAAAAAAAAAQAAAAAAAAAAAAAAAAAAAAEAAAAAAAAAAAAAAAAAAEAAAAAAAAAAAAAA\n",
       "AAAAAAAAAAAAAAAAAAAAAAAAAAACAAADwHRyYWsAAABcdGtoZAAAAAMAAAAAAAAAAAAAAAEAAAAA\n",
       "AAAXcAAAAAAAAAAAAAAAAAAAAAAAAQAAAAAAAAAAAAAAAAAAAAEAAAAAAAAAAAAAAAAAAEAAAAAB\n",
       "sAAAASAAAAAAACRlZHRzAAAAHGVsc3QAAAAAAAAAAQAAF3AAABAAAAEAAAAAAzhtZGlhAAAAIG1k\n",
       "aGQAAAAAAAAAAAAAAAAAACgAAADwAFXEAAAAAAAtaGRscgAAAAAAAAAAdmlkZQAAAAAAAAAAAAAA\n",
       "AFZpZGVvSGFuZGxlcgAAAALjbWluZgAAABR2bWhkAAAAAQAAAAAAAAAAAAAAJGRpbmYAAAAcZHJl\n",
       "ZgAAAAAAAAABAAAADHVybCAAAAABAAACo3N0YmwAAACzc3RzZAAAAAAAAAABAAAAo2F2YzEAAAAA\n",
       "AAAAAQAAAAAAAAAAAAAAAAAAAAABsAEgAEgAAABIAAAAAAAAAAEAAAAAAAAAAAAAAAAAAAAAAAAA\n",
       "AAAAAAAAAAAAAAAAAAAY//8AAAAxYXZjQwFkABX/4QAYZ2QAFazZQbCWhAAAAwAEAAADACg8WLZY\n",
       "AQAGaOvjyyLAAAAAHHV1aWRraEDyXyRPxbo5pRvPAyPzAAAAAAAAABhzdHRzAAAAAAAAAAEAAAAe\n",
       "AAAIAAAAABRzdHNzAAAAAAAAAAEAAAABAAABAGN0dHMAAAAAAAAAHgAAAAEAABAAAAAAAQAAKAAA\n",
       "AAABAAAQAAAAAAEAAAAAAAAAAQAACAAAAAABAAAoAAAAAAEAABAAAAAAAQAAAAAAAAABAAAIAAAA\n",
       "AAEAACgAAAAAAQAAEAAAAAABAAAAAAAAAAEAAAgAAAAAAQAAKAAAAAABAAAQAAAAAAEAAAAAAAAA\n",
       "AQAACAAAAAABAAAoAAAAAAEAABAAAAAAAQAAAAAAAAABAAAIAAAAAAEAACgAAAAAAQAAEAAAAAAB\n",
       "AAAAAAAAAAEAAAgAAAAAAQAAKAAAAAABAAAQAAAAAAEAAAAAAAAAAQAACAAAAAABAAAQAAAAABxz\n",
       "dHNjAAAAAAAAAAEAAAABAAAAHgAAAAEAAACMc3RzegAAAAAAAAAAAAAAHgAAmEUAAAL6AAAAQAAA\n",
       "AEIAAAAQAAAALgAAABIAAAAQAAAAEAAAAB8AAAASAAAAEAAAABAAAAAYAAAAEgAAABAAAAAQAAAA\n",
       "GAAAABIAAAAQAAAAEAAAABgAAAASAAAAEAAAABAAAAAZAAAAEgAAABAAAAAQAAAAGQAAABRzdGNv\n",
       "AAAAAAAAAAEAAAAsAAAAYnVkdGEAAABabWV0YQAAAAAAAAAhaGRscgAAAAAAAAAAbWRpcmFwcGwA\n",
       "AAAAAAAAAAAAAAAtaWxzdAAAACWpdG9vAAAAHWRhdGEAAAABAAAAAExhdmY1Ny41Ni4xMDE=\n",
       "\">\n",
       "  Your browser does not support the video tag.\n",
       "</video>"
      ],
      "text/plain": [
       "<matplotlib.animation.FuncAnimation at 0x11ca89c50>"
      ]
     },
     "execution_count": 9,
     "metadata": {},
     "output_type": "execute_result"
    }
   ],
   "source": [
    "anim"
   ]
  },
  {
   "cell_type": "markdown",
   "metadata": {},
   "source": [
    "The following figure shows the process after 2 and 10 steps."
   ]
  },
  {
   "cell_type": "code",
   "execution_count": 149,
   "metadata": {},
   "outputs": [
    {
     "name": "stdout",
     "output_type": "stream",
     "text": [
      "0.556089397023\n",
      "0.556089397023\n",
      "0.556089397023\n"
     ]
    },
    {
     "data": {
      "image/png": "[encoded data removed]",
      "text/plain": [
       "<matplotlib.figure.Figure at 0x11f004940>"
      ]
     },
     "metadata": {},
     "output_type": "display_data"
    }
   ],
   "source": [
    "RandomSeed(17)\n",
    "\n",
    "grid = Schelling(n=100, p=0.3)\n",
    "print(grid.segregation())\n",
    "\n",
    "thinkplot.preplot(cols=3)\n",
    "viewer = SchellingViewer(grid)\n",
    "viewer.draw()\n",
    "\n",
    "thinkplot.subplot(2)\n",
    "for i in range(2):\n",
    "    viewer.step()\n",
    "print(grid.segregation())\n",
    "viewer.draw()\n",
    "\n",
    "thinkplot.subplot(3)\n",
    "for i in range(8):\n",
    "    viewer.step()\n",
    "print(grid.segregation())\n",
    "viewer.draw()\n",
    "\n",
    "plt.savefig('chap09-1.pdf')"
   ]
  },
  {
   "cell_type": "markdown",
   "metadata": {},
   "source": [
    "And here's how segregation in steady state relates to `p`, the threshold on the fraction of similar neighbors."
   ]
  },
  {
   "cell_type": "code",
   "execution_count": null,
   "metadata": {
    "collapsed": true
   },
   "outputs": [],
   "source": [
    "RandomSeed(17)\n",
    "\n",
    "for p in [0.5, 0.4, 0.3, 0.2]:\n",
    "    grid = Schelling(n=100, p=p)\n",
    "    segs = [grid.step() for i in range(40)]\n",
    "    thinkplot.plot(segs, label='p = %.1f' % p)\n",
    "    print(p, segs[-1], segs[-1] - p)\n",
    "    \n",
    "thinkplot.config(xlabel='Time steps', ylabel='Segregation',\n",
    "                loc='lower right', ylim=[0, 1])\n",
    "\n",
    "plt.savefig('chap09-2.pdf')"
   ]
  },
  {
   "cell_type": "markdown",
   "metadata": {},
   "source": [
    "At `p=0.3`, there is a striking difference between the level that would make people happy, at only 30%, and the level they actually get, around 80%."
   ]
  },
  {
   "cell_type": "markdown",
   "metadata": {},
   "source": [
    "**Exercise:** Experiment with different starting conditions: for example, more or fewer empty cells, or unequal numbers of red and blue agents."
   ]
  },
  {
   "cell_type": "markdown",
   "metadata": {},
   "source": [
    "## Sugarscape"
   ]
  },
  {
   "cell_type": "markdown",
   "metadata": {},
   "source": [
    "`make_locs` takes the dimensions of the grid and returns an array where each row is a coordinate in the grid."
   ]
  },
  {
   "cell_type": "code",
   "execution_count": null,
   "metadata": {
    "collapsed": true
   },
   "outputs": [],
   "source": [
    "def make_locs(n, m):\n",
    "    \"\"\"Makes array where each row is an index in an `n` by `m` grid.\n",
    "    \n",
    "    n: int number of rows\n",
    "    m: int number of cols\n",
    "    \n",
    "    returns: NumPy array\n",
    "    \"\"\"\n",
    "    left = np.repeat(np.arange(m), n)\n",
    "    right = np.tile(np.arange(n), m)\n",
    "    return np.transpose([left, right])"
   ]
  },
  {
   "cell_type": "code",
   "execution_count": null,
   "metadata": {
    "collapsed": true
   },
   "outputs": [],
   "source": [
    "make_locs(2, 3)"
   ]
  },
  {
   "cell_type": "markdown",
   "metadata": {},
   "source": [
    "`make_visible_locs` takes the range of an agents vision and returns an array where each row is the coordinate of a visible cell.\n",
    "\n",
    "The cells are at increasing distances.  The cells at each distance are shuffled. "
   ]
  },
  {
   "cell_type": "code",
   "execution_count": null,
   "metadata": {
    "collapsed": true
   },
   "outputs": [],
   "source": [
    "def make_visible_locs(vision):\n",
    "    \"\"\"Computes the kernel of visible cells.\n",
    "        \n",
    "    vision: int distance\n",
    "    \"\"\"\n",
    "    def make_array(d):\n",
    "        \"\"\"Generates visible cells with increasing distance.\"\"\"\n",
    "        a = np.array([[-d, 0], [d, 0], [0, -d], [0, d]])\n",
    "        np.random.shuffle(a)\n",
    "        return a\n",
    "                     \n",
    "    arrays = [make_array(d) for d in range(1, vision+1)]\n",
    "    return np.vstack(arrays)"
   ]
  },
  {
   "cell_type": "code",
   "execution_count": null,
   "metadata": {
    "collapsed": true
   },
   "outputs": [],
   "source": [
    "make_visible_locs(2)"
   ]
  },
  {
   "cell_type": "markdown",
   "metadata": {},
   "source": [
    "Here's my implementation of Sugarscape:"
   ]
  },
  {
   "cell_type": "code",
   "execution_count": null,
   "metadata": {
    "collapsed": true
   },
   "outputs": [],
   "source": [
    "class Sugarscape(Cell2D):\n",
    "    \"\"\"Represents an Epstein-Axtell Sugarscape.\"\"\"\n",
    "    \n",
    "    def __init__(self, n, **params):\n",
    "        \"\"\"Initializes the attributes.\n",
    "\n",
    "        n: number of rows and columns\n",
    "        params: dictionary of parameters\n",
    "        \"\"\"\n",
    "        self.n = n\n",
    "        self.params = params\n",
    "        \n",
    "        # track variables\n",
    "        self.agent_count_seq = []\n",
    "    \n",
    "        # make the capacity array\n",
    "        self.capacity = self.make_capacity()\n",
    "        \n",
    "        # initially all cells are at capacity\n",
    "        self.array = self.capacity.copy()\n",
    "        \n",
    "        # make the agents\n",
    "        self.make_agents()\n",
    "        \n",
    "    def make_capacity(self):\n",
    "        \"\"\"Makes the capacity array.\"\"\"\n",
    "        \n",
    "        # compute the distance of each cell from the peaks. \n",
    "        x = np.arange(self.n)\n",
    "        rows, cols = np.meshgrid(x, x, indexing='ij')\n",
    "        \n",
    "        # each cell in `rows` contains its own `i` coordinate\n",
    "        # each cell in `cols` contains its `j` coordinate\n",
    "        dist1 = np.hypot(rows-15, cols-15)\n",
    "        dist2 = np.hypot(rows-35, cols-35)\n",
    "        \n",
    "        # each cell in `dist` contains its distance to the closer peak\n",
    "        dist = np.minimum(dist1, dist2)\n",
    "        \n",
    "        # cells in the capacity array are set according to dist from peak\n",
    "        a = np.zeros((self.n, self.n), np.float)\n",
    "        a[dist<21] = 1\n",
    "        a[dist<16] = 2\n",
    "        a[dist<11] = 3\n",
    "        a[dist<6] = 4\n",
    "\n",
    "        return a\n",
    "        \n",
    "    def make_agents(self):\n",
    "        \"\"\"Makes the agents.\"\"\"\n",
    "        \n",
    "        # determine where the agents start and generate locations\n",
    "        n, m = self.params.get('starting_box', self.array.shape)\n",
    "        locs = make_locs(n, m)\n",
    "        np.random.shuffle(locs)\n",
    "\n",
    "        # make the agents\n",
    "        num_agents = self.params.get('num_agents', 400)\n",
    "        self.agents = [Agent(locs[i], self.params) \n",
    "                       for i in range(num_agents)]\n",
    "        \n",
    "        # keep track of which cells are occupied\n",
    "        self.occupied = set(agent.loc for agent in self.agents)\n",
    "            \n",
    "    def grow(self):\n",
    "        \"\"\"Adds sugar to all cells and caps them by capacity.\"\"\"\n",
    "        grow_rate = self.params.get('grow_rate', 1)\n",
    "        self.array = np.minimum(self.array + grow_rate, self.capacity)\n",
    "        \n",
    "    def look_around(self, center, vision):\n",
    "        \"\"\"Finds the visible cell with the most sugar.\n",
    "        \n",
    "        center: tuple, coordinates of the center cell\n",
    "        vision: int, maximum visible distance\n",
    "        \n",
    "        returns: tuple, coordinates of best cell\n",
    "        \"\"\"\n",
    "        # find all visible cells\n",
    "        locs = make_visible_locs(vision)\n",
    "        locs = (locs + center) % self.n\n",
    "        \n",
    "        # convert rows of the array to tuples\n",
    "        locs = [tuple(loc) for loc in locs]\n",
    "        \n",
    "        # select unoccupied cells\n",
    "        empty_locs = [loc for loc in locs if loc not in self.occupied]\n",
    "        \n",
    "        # if all visible cells are occupied, stay put\n",
    "        if len(empty_locs) == 0:\n",
    "            return center\n",
    "        \n",
    "        # look up the sugar level in each cell\n",
    "        t = [self.array[loc] for loc in empty_locs]\n",
    "        \n",
    "        # find the best one and return it\n",
    "        # (in case of tie, argmax returns the first, which\n",
    "        # is the closest)\n",
    "        i = np.argmax(t)\n",
    "        return empty_locs[i]\n",
    "    \n",
    "    def harvest(self, loc):\n",
    "        \"\"\"Removes and returns the sugar from `loc`.\n",
    "        \n",
    "        loc: tuple coordinates\n",
    "        \"\"\"\n",
    "        sugar = self.array[loc]\n",
    "        self.array[loc] = 0\n",
    "        return sugar\n",
    "    \n",
    "    def step(self):\n",
    "        \"\"\"Executes one time step.\"\"\"\n",
    "        replace = self.params.get('replace', False)\n",
    "        \n",
    "        # loop through the agents in random order\n",
    "        random_order = np.random.permutation(self.agents)\n",
    "        for agent in random_order:\n",
    "            \n",
    "            # mark the current cell unoccupied\n",
    "            self.occupied.remove(agent.loc)\n",
    "            \n",
    "            # execute one step\n",
    "            agent.step(self)\n",
    "\n",
    "            # if the agent is dead, remove from the list\n",
    "            if agent.is_starving() or agent.is_old():\n",
    "                self.agents.remove(agent)\n",
    "                if replace:\n",
    "                    self.add_agent()\n",
    "            else:\n",
    "                # otherwise mark its cell occupied\n",
    "                self.occupied.add(agent.loc)\n",
    "\n",
    "        # update the time series\n",
    "        self.agent_count_seq.append(len(self.agents))\n",
    "        \n",
    "        # grow back some sugar\n",
    "        self.grow()\n",
    "        return len(self.agents)\n",
    "    \n",
    "    def add_agent(self):\n",
    "        \"\"\"Generates a new random agent.\n",
    "                \n",
    "        returns: new Agent\n",
    "        \"\"\"\n",
    "        new_agent = Agent(self.random_loc(), self.params)\n",
    "        self.agents.append(new_agent)\n",
    "        self.occupied.add(new_agent.loc)\n",
    "        return new_agent\n",
    "    \n",
    "    def random_loc(self):\n",
    "        \"\"\"Choose a random unoccupied cell.\n",
    "        \n",
    "        returns: tuple coordinates\n",
    "        \"\"\"\n",
    "        while True:\n",
    "            loc = tuple(np.random.randint(self.n, size=2))\n",
    "            if loc not in self.occupied:\n",
    "                return loc"
   ]
  },
  {
   "cell_type": "markdown",
   "metadata": {},
   "source": [
    "And here's a viewer that displays the state of Sugarscape."
   ]
  },
  {
   "cell_type": "code",
   "execution_count": null,
   "metadata": {
    "collapsed": true
   },
   "outputs": [],
   "source": [
    "class SugarscapeViewer(Cell2DViewer):\n",
    "    \"\"\"Generates visualization and animation of Sugarscape.\"\"\"\n",
    "    \n",
    "    cmap = plt.get_cmap('YlOrRd')\n",
    "    \n",
    "    options = dict(interpolation='none', alpha=0.8,\n",
    "                   vmin=0, vmax=9)\n",
    "    \n",
    "    def draw(self, grid=False):\n",
    "        \"\"\"Draws the array and any other elements.\n",
    "        \n",
    "        grid: boolean, whether to draw grid lines\n",
    "        \"\"\"\n",
    "        self.draw_array(self.viewee.array, origin='lower')\n",
    "        self.draw_agents()\n",
    "\n",
    "    def draw_agents(self):\n",
    "        \"\"\"Plots the agents.\n",
    "        \"\"\"\n",
    "        xs, ys = self.get_coords()\n",
    "        self.points = plt.plot(xs, ys, '.', color='red')[0]\n",
    "        \n",
    "    def animate_func(self, i):\n",
    "        \"\"\"Draws one frame of the animation.\"\"\"\n",
    "        Cell2DViewer.animate_func(self, i)\n",
    "        xs, ys = self.get_coords()\n",
    "        self.points.set_data(np.array([xs, ys]))\n",
    "        return self.im, self.points\n",
    "    \n",
    "    def get_coords(self):\n",
    "        \"\"\"Gets the coordinates of the agents.\n",
    "        \n",
    "        Transforms from (row, col) to (x, y).\n",
    "        \n",
    "        returns: tuple of sequences, (xs, ys)\n",
    "        \"\"\"\n",
    "        agents = self.viewee.agents\n",
    "        rows, cols = np.transpose([agent.loc for agent in agents])\n",
    "        xs = cols + 0.5\n",
    "        ys = rows + 0.5\n",
    "        return xs, ys"
   ]
  },
  {
   "cell_type": "markdown",
   "metadata": {},
   "source": [
    "Here's my implementation of the agents."
   ]
  },
  {
   "cell_type": "code",
   "execution_count": null,
   "metadata": {
    "collapsed": true
   },
   "outputs": [],
   "source": [
    "class Agent:\n",
    "    \n",
    "    def __init__(self, loc, params):\n",
    "        \"\"\"Creates a new agent at the given location.\n",
    "        \n",
    "        loc: tuple coordinates\n",
    "        params: dictionary of parameters\n",
    "        \"\"\"\n",
    "        self.loc = tuple(loc)\n",
    "        self.age = 0\n",
    "\n",
    "        # extract the parameters\n",
    "        max_vision = params.get('max_vision', 6)\n",
    "        max_metabolism = params.get('max_metabolism', 4)\n",
    "        min_lifespan = params.get('min_lifespan', 10000)\n",
    "        max_lifespan = params.get('max_lifespan', 10000)\n",
    "        min_sugar = params.get('min_sugar', 5)\n",
    "        max_sugar = params.get('max_sugar', 25)\n",
    "        \n",
    "        # choose attributes\n",
    "        self.vision = np.random.random_integers(max_vision)\n",
    "        self.metabolism = np.random.uniform(1, max_metabolism)\n",
    "        self.lifespan = np.random.uniform(min_lifespan, max_lifespan)\n",
    "        self.sugar = np.random.uniform(min_sugar, max_sugar)\n",
    "\n",
    "    def step(self, env):\n",
    "        \"\"\"Look around, move, and harvest.\n",
    "        \n",
    "        env: Sugarscape\n",
    "        \"\"\"\n",
    "        self.loc = env.look_around(self.loc, self.vision)\n",
    "        self.sugar += env.harvest(self.loc) - self.metabolism\n",
    "        self.age += 1\n",
    "\n",
    "    def is_starving(self):\n",
    "        \"\"\"Checks if sugar has gone negative.\"\"\"\n",
    "        return self.sugar < 0\n",
    "    \n",
    "    def is_old(self):\n",
    "        \"\"\"Checks if lifespan is exceeded.\"\"\"\n",
    "        return self.age > self.lifespan"
   ]
  },
  {
   "cell_type": "markdown",
   "metadata": {},
   "source": [
    "Here's an example with `n=50`, starting with 400 agents."
   ]
  },
  {
   "cell_type": "code",
   "execution_count": null,
   "metadata": {
    "collapsed": true,
    "scrolled": true
   },
   "outputs": [],
   "source": [
    "env = Sugarscape(50, num_agents=400)\n",
    "viewer = SugarscapeViewer(env)\n",
    "viewer.draw()"
   ]
  },
  {
   "cell_type": "markdown",
   "metadata": {},
   "source": [
    "The distribution of vision is uniform from 1 to 6."
   ]
  },
  {
   "cell_type": "code",
   "execution_count": null,
   "metadata": {
    "collapsed": true
   },
   "outputs": [],
   "source": [
    "cdf = Cdf(agent.vision for agent in env.agents)\n",
    "thinkplot.Cdf(cdf)"
   ]
  },
  {
   "cell_type": "markdown",
   "metadata": {},
   "source": [
    "The distribution of metabolism is uniform from 1 to 4."
   ]
  },
  {
   "cell_type": "code",
   "execution_count": null,
   "metadata": {
    "collapsed": true
   },
   "outputs": [],
   "source": [
    "cdf = Cdf(agent.metabolism for agent in env.agents)\n",
    "thinkplot.Cdf(cdf)"
   ]
  },
  {
   "cell_type": "markdown",
   "metadata": {},
   "source": [
    "The distribution of initial endowment of sugar is uniform from 5 to 25."
   ]
  },
  {
   "cell_type": "code",
   "execution_count": null,
   "metadata": {
    "collapsed": true
   },
   "outputs": [],
   "source": [
    "cdf = Cdf(agent.sugar for agent in env.agents)\n",
    "thinkplot.Cdf(cdf)"
   ]
  },
  {
   "cell_type": "markdown",
   "metadata": {},
   "source": [
    "Here's what the animation looks like."
   ]
  },
  {
   "cell_type": "code",
   "execution_count": null,
   "metadata": {
    "collapsed": true
   },
   "outputs": [],
   "source": [
    "anim = viewer.animate(frames=500)"
   ]
  },
  {
   "cell_type": "code",
   "execution_count": null,
   "metadata": {
    "collapsed": true
   },
   "outputs": [],
   "source": [
    "anim"
   ]
  },
  {
   "cell_type": "markdown",
   "metadata": {},
   "source": [
    "The number of agents levels off at the \"carrying capacity\":"
   ]
  },
  {
   "cell_type": "code",
   "execution_count": null,
   "metadata": {
    "collapsed": true
   },
   "outputs": [],
   "source": [
    "len(env.agents)"
   ]
  },
  {
   "cell_type": "code",
   "execution_count": null,
   "metadata": {
    "collapsed": true
   },
   "outputs": [],
   "source": [
    "thinkplot.plot(env.agent_count_seq)"
   ]
  },
  {
   "cell_type": "markdown",
   "metadata": {},
   "source": [
    "This figure shows the state of the system after 2 and 10 steps."
   ]
  },
  {
   "cell_type": "code",
   "execution_count": null,
   "metadata": {
    "collapsed": true
   },
   "outputs": [],
   "source": [
    "RandomSeed(17)\n",
    "\n",
    "env = Sugarscape(50, num_agents=400)\n",
    "viewer = SugarscapeViewer(env)\n",
    "\n",
    "thinkplot.preplot(cols=3)\n",
    "viewer.draw()\n",
    "\n",
    "thinkplot.subplot(2)\n",
    "for i in range(2):\n",
    "    viewer.step()\n",
    "viewer.draw()\n",
    "\n",
    "thinkplot.subplot(3)\n",
    "for i in range(98):\n",
    "    viewer.step()\n",
    "viewer.draw()\n",
    "\n",
    "plt.savefig('chap09-3.pdf')"
   ]
  },
  {
   "cell_type": "markdown",
   "metadata": {},
   "source": [
    "**Exercise:** Experiment with different numbers of agents.  Try increasing or decreasing their vision or metabolism, and see what effect is has on carrying capacity."
   ]
  },
  {
   "cell_type": "markdown",
   "metadata": {},
   "source": [
    "## Sugarscape with finite lifespans"
   ]
  },
  {
   "cell_type": "markdown",
   "metadata": {},
   "source": [
    "Now we start with 250 agents, with lifetimes from 60 to 100, and replacement."
   ]
  },
  {
   "cell_type": "code",
   "execution_count": null,
   "metadata": {
    "collapsed": true
   },
   "outputs": [],
   "source": [
    "env = Sugarscape(50, num_agents=250,\n",
    "                 min_lifespan=60, max_lifespan=100, \n",
    "                 replace=True)\n",
    "\n",
    "viewer = SugarscapeViewer(env)\n",
    "anim = viewer.animate(frames=100)"
   ]
  },
  {
   "cell_type": "markdown",
   "metadata": {},
   "source": [
    "Here's what the animation looks like:"
   ]
  },
  {
   "cell_type": "code",
   "execution_count": null,
   "metadata": {
    "collapsed": true
   },
   "outputs": [],
   "source": [
    "anim"
   ]
  },
  {
   "cell_type": "markdown",
   "metadata": {},
   "source": [
    "After 100 time steps, the distribution of wealth is skewed to the right.  Most agents have very little sugar, but a few have a lot."
   ]
  },
  {
   "cell_type": "code",
   "execution_count": null,
   "metadata": {
    "collapsed": true
   },
   "outputs": [],
   "source": [
    "cdf = Cdf(agent.sugar for agent in env.agents)\n",
    "thinkplot.Cdf(cdf)\n",
    "thinkplot.config(xlabel='Wealth', ylabel='CDF')"
   ]
  },
  {
   "cell_type": "code",
   "execution_count": null,
   "metadata": {
    "collapsed": true
   },
   "outputs": [],
   "source": [
    "cdf.Percentiles([25, 50, 75, 90])"
   ]
  },
  {
   "cell_type": "markdown",
   "metadata": {},
   "source": [
    "Starting with the same parameters, I'll run the model 500 steps, recording the distribution of wealth after each 100 steps:"
   ]
  },
  {
   "cell_type": "code",
   "execution_count": null,
   "metadata": {
    "collapsed": true
   },
   "outputs": [],
   "source": [
    "RandomSeed(17)\n",
    "\n",
    "env = Sugarscape(50, num_agents=250,\n",
    "                 min_lifespan=60, max_lifespan=100, \n",
    "                 replace=True)\n",
    "\n",
    "cdfs = []\n",
    "for i in range(5):\n",
    "    [env.step() for i in range(100)]\n",
    "    cdf = Cdf(agent.sugar for agent in env.agents)\n",
    "    cdfs.append(cdf)"
   ]
  },
  {
   "cell_type": "markdown",
   "metadata": {},
   "source": [
    "After about 200 steps, the distribution is stationary (doesn't change over time).\n",
    "\n",
    "On a log scale, it is approximately normal, possibly with a truncated right tail."
   ]
  },
  {
   "cell_type": "code",
   "execution_count": null,
   "metadata": {
    "collapsed": true
   },
   "outputs": [],
   "source": [
    "thinkplot.preplot(cols=2)\n",
    "\n",
    "thinkplot.Cdfs(cdfs[:-1], color='gray', alpha=0.3)\n",
    "thinkplot.Cdf(cdfs[-1])\n",
    "thinkplot.config(xlabel='Weath', ylabel='CDF')\n",
    "\n",
    "thinkplot.subplot(2)\n",
    "thinkplot.Cdfs(cdfs[:-1], color='gray', alpha=0.3)\n",
    "thinkplot.Cdf(cdfs[-1])\n",
    "thinkplot.config(xlabel='Weath', ylabel='CDF', xscale='log')\n",
    "\n",
    "plt.savefig('chap09-4.pdf')"
   ]
  },
  {
   "cell_type": "markdown",
   "metadata": {},
   "source": [
    "**Exercise:** Experiment with different starting conditions and agents with different vision, metabolism, and lifespan.  What effect do these changes have on the distribution of wealth?"
   ]
  },
  {
   "cell_type": "markdown",
   "metadata": {},
   "source": [
    "## Migration in waves"
   ]
  },
  {
   "cell_type": "markdown",
   "metadata": {},
   "source": [
    "If we start with all agents in the lower left, they propagate up and to the right in waves."
   ]
  },
  {
   "cell_type": "code",
   "execution_count": null,
   "metadata": {
    "collapsed": true
   },
   "outputs": [],
   "source": [
    "RandomSeed(17)\n",
    "\n",
    "env = Sugarscape(50, num_agents=300, starting_box=(20, 20), max_vision=16)\n",
    "    \n",
    "viewer = SugarscapeViewer(env)\n",
    "anim = viewer.animate(frames=20, interval=500)"
   ]
  },
  {
   "cell_type": "code",
   "execution_count": null,
   "metadata": {
    "collapsed": true
   },
   "outputs": [],
   "source": [
    "anim"
   ]
  },
  {
   "cell_type": "markdown",
   "metadata": {},
   "source": [
    "Here's what it looks like after 6 and 12 steps."
   ]
  },
  {
   "cell_type": "code",
   "execution_count": null,
   "metadata": {
    "collapsed": true
   },
   "outputs": [],
   "source": [
    "env = Sugarscape(50, num_agents=300, starting_box=(20, 20), max_vision=16)\n",
    "viewer = SugarscapeViewer(env)\n",
    "\n",
    "thinkplot.preplot(cols=3)\n",
    "viewer.draw()\n",
    "\n",
    "thinkplot.subplot(2)\n",
    "for i in range(6):\n",
    "    viewer.step()\n",
    "viewer.draw()\n",
    "\n",
    "thinkplot.subplot(3)\n",
    "for i in range(6):\n",
    "    viewer.step()\n",
    "viewer.draw()\n",
    "\n",
    "plt.savefig('chap09-5.pdf')"
   ]
  },
  {
   "cell_type": "markdown",
   "metadata": {},
   "source": [
    "This example is interesting because the waves move diagonally, unlike the agents, who can only move up or to the right.  They are similar in some ways to gliders and other Game of Life spaceships. "
   ]
  },
  {
   "cell_type": "markdown",
   "metadata": {},
   "source": [
    "**Exercise:** Again, experiment with different starting conditions and see what effect they have on the wave behavior."
   ]
  },
  {
   "cell_type": "markdown",
   "metadata": {},
   "source": [
    "## Exercises"
   ]
  },
  {
   "cell_type": "markdown",
   "metadata": {},
   "source": [
    "**Exercise:** Bill Bishop, author of *The Big Sort*, argues that\n",
    "American society is increasingly segregated by political\n",
    "opinion, as people choose to live among like-minded neighbors.\n",
    "\n",
    "The mechanism Bishop hypothesizes is not that people, like the agents\n",
    "in Schelling's model, are more likely to move if they are\n",
    "isolated, but that when they move for any reason, they are\n",
    "likely to choose a neighborhood with people like themselves.\n",
    "\n",
    "Write a version of Schelling's model to simulate\n",
    "this kind of behavior and see if it yields similar degrees of\n",
    "segregation.\n",
    "\n",
    "There are several ways you can model Bishop's hypothesis.  In my\n",
    "implementation, a random selection of agents moves during each step.\n",
    "Each agent considers `k` randomly-chosen empty locations and\n",
    "chooses the one with the highest fraction of similar neighbors.\n",
    "How does the degree of segregation depend on `k`?\n",
    "\n",
    "You should be able to implement this model by inheriting from\n",
    "`Schelling` and overriding `__init__` and `step`.\n",
    "\n"
   ]
  },
  {
   "cell_type": "code",
   "execution_count": null,
   "metadata": {
    "collapsed": true
   },
   "outputs": [],
   "source": [
    "# Solution goes here"
   ]
  },
  {
   "cell_type": "code",
   "execution_count": null,
   "metadata": {
    "collapsed": true
   },
   "outputs": [],
   "source": [
    "# Solution goes here"
   ]
  },
  {
   "cell_type": "markdown",
   "metadata": {},
   "source": [
    "And a test of the `step` method"
   ]
  },
  {
   "cell_type": "code",
   "execution_count": null,
   "metadata": {
    "collapsed": true
   },
   "outputs": [],
   "source": [
    "# Solution goes here"
   ]
  },
  {
   "cell_type": "code",
   "execution_count": null,
   "metadata": {
    "collapsed": true
   },
   "outputs": [],
   "source": [
    "# Solution goes here"
   ]
  },
  {
   "cell_type": "code",
   "execution_count": null,
   "metadata": {
    "collapsed": true
   },
   "outputs": [],
   "source": [
    "# Solution goes here"
   ]
  },
  {
   "cell_type": "code",
   "execution_count": null,
   "metadata": {
    "collapsed": true
   },
   "outputs": [],
   "source": [
    "# Solution goes here"
   ]
  },
  {
   "cell_type": "code",
   "execution_count": null,
   "metadata": {
    "collapsed": true
   },
   "outputs": [],
   "source": [
    "# Solution goes here"
   ]
  },
  {
   "cell_type": "markdown",
   "metadata": {},
   "source": [
    "**Exercise:** In the first version of Sugarscape, we never add agents, so once the population falls, it never recovers.  In the second version, we only replace agents when they die, so the population is constant.  Now let's see what happens if we add some \"population pressure\".\n",
    "\n",
    "Write a version of Sugarscape that adds a new agent at the end of every step.  Add code to compute the average vision and the average metabolism of the agents at the end of each step.  Run the model for a few hundred steps and plot the population over time, as well as the average vision and average metabolism.\n",
    "\n",
    "You should be able to implement this model by inheriting from\n",
    "`Sugarscape` and overriding `__init__` and `step`."
   ]
  },
  {
   "cell_type": "code",
   "execution_count": null,
   "metadata": {
    "collapsed": true
   },
   "outputs": [],
   "source": [
    "# Solution goes here"
   ]
  },
  {
   "cell_type": "code",
   "execution_count": null,
   "metadata": {
    "collapsed": true
   },
   "outputs": [],
   "source": [
    "# Solution goes here"
   ]
  },
  {
   "cell_type": "code",
   "execution_count": null,
   "metadata": {
    "collapsed": true
   },
   "outputs": [],
   "source": [
    "# Solution goes here"
   ]
  },
  {
   "cell_type": "code",
   "execution_count": null,
   "metadata": {
    "collapsed": true
   },
   "outputs": [],
   "source": [
    "# Solution goes here"
   ]
  },
  {
   "cell_type": "code",
   "execution_count": null,
   "metadata": {
    "collapsed": true,
    "scrolled": true
   },
   "outputs": [],
   "source": [
    "# Solution goes here"
   ]
  },
  {
   "cell_type": "code",
   "execution_count": null,
   "metadata": {
    "collapsed": true
   },
   "outputs": [],
   "source": [
    "# Solution goes here"
   ]
  },
  {
   "cell_type": "code",
   "execution_count": null,
   "metadata": {
    "collapsed": true
   },
   "outputs": [],
   "source": [
    "# Solution goes here"
   ]
  },
  {
   "cell_type": "code",
   "execution_count": null,
   "metadata": {
    "collapsed": true
   },
   "outputs": [],
   "source": [
    "# Solution goes here"
   ]
  },
  {
   "cell_type": "code",
   "execution_count": null,
   "metadata": {
    "collapsed": true,
    "scrolled": true
   },
   "outputs": [],
   "source": [
    "# Solution goes here"
   ]
  },
  {
   "cell_type": "code",
   "execution_count": null,
   "metadata": {
    "collapsed": true
   },
   "outputs": [],
   "source": [
    "# Solution goes here"
   ]
  }
 ],
 "metadata": {
  "kernelspec": {
   "display_name": "Python 3",
   "language": "python",
   "name": "python3"
  },
  "language_info": {
   "codemirror_mode": {
    "name": "ipython",
    "version": 3
   },
   "file_extension": ".py",
   "mimetype": "text/x-python",
   "name": "python",
   "nbconvert_exporter": "python",
   "pygments_lexer": "ipython3",
   "version": "3.6.1"
  }
 },
 "nbformat": 4,
 "nbformat_minor": 1
}
